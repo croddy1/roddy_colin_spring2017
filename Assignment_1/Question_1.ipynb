{
 "cells": [
  {
   "cell_type": "markdown",
   "metadata": {},
   "source": [
    "# Question 1\n",
    "- What files are in Gutenberg?\n",
    "- How many words are in 'austen-persuasion.txt'?\n",
    "- How many unique words are in 'austen-pursuasion?\n",
    "- Calculate frequency of each word and show the top \n",
    "    ten most fequent words along with their frequency.\n",
    "- Try NOT to use FreqDist module.\n"
   ]
  },
  {
   "cell_type": "code",
   "execution_count": 2,
   "metadata": {
    "collapsed": true
   },
   "outputs": [],
   "source": [
    "import nltk"
   ]
  },
  {
   "cell_type": "code",
   "execution_count": 3,
   "metadata": {
    "collapsed": false
   },
   "outputs": [
    {
     "name": "stdout",
     "output_type": "stream",
     "text": [
      "Files under Gutenberg:\n",
      "austen-emma.txt\n",
      "austen-persuasion.txt\n",
      "austen-sense.txt\n",
      "bible-kjv.txt\n",
      "blake-poems.txt\n",
      "bryant-stories.txt\n",
      "burgess-busterbrown.txt\n",
      "carroll-alice.txt\n",
      "chesterton-ball.txt\n",
      "chesterton-brown.txt\n",
      "chesterton-thursday.txt\n",
      "edgeworth-parents.txt\n",
      "melville-moby_dick.txt\n",
      "milton-paradise.txt\n",
      "shakespeare-caesar.txt\n",
      "shakespeare-hamlet.txt\n",
      "shakespeare-macbeth.txt\n",
      "whitman-leaves.txt\n"
     ]
    }
   ],
   "source": [
    "#show files under gutenberg\n",
    "print('Files under Gutenberg:')\n",
    "for x in nltk.corpus.gutenberg.fileids():\n",
    "    print(x)"
   ]
  },
  {
   "cell_type": "code",
   "execution_count": 4,
   "metadata": {
    "collapsed": false
   },
   "outputs": [
    {
     "name": "stdout",
     "output_type": "stream",
     "text": [
      "There are 98171 words in austen-persuasion.txt\n",
      "There are 6132 unique words in austen-persuasion.txt\n"
     ]
    }
   ],
   "source": [
    "words_txt = nltk.corpus.gutenberg.words('austen-persuasion.txt') #import words from austen-persuasion.txt\n",
    "print('There are',len(words_txt), 'words in austen-persuasion.txt')\n",
    "print('There are',len(set(words_txt)), 'unique words in austen-persuasion.txt')"
   ]
  },
  {
   "cell_type": "code",
   "execution_count": 34,
   "metadata": {
    "collapsed": false,
    "scrolled": false
   },
   "outputs": [
    {
     "name": "stdout",
     "output_type": "stream",
     "text": [
      "The top ten words in austen-persuasion.txt are...\n",
      ", : 6750\n",
      "the : 3329\n",
      "to : 2808\n",
      "and : 2801\n",
      ". : 2741\n",
      "of : 2570\n",
      "a : 1595\n",
      "in : 1389\n",
      "was : 1337\n",
      "; : 1290\n"
     ]
    }
   ],
   "source": [
    "words = nltk.corpus.gutenberg.words('austen-persuasion.txt') #import words from austen-persuasion.txt\n",
    "lowerWords = [x.lower() for x in words] #lowercase all words \n",
    "wordDict = dict()\n",
    "\n",
    "#read through text and check wordDict for given word\n",
    "#if word isn't there, add it and set count to 1\n",
    "#if word is there, add one to the count\n",
    "for x in lowerWords:\n",
    "    if x in wordDict:\n",
    "        wordDict[x] = wordDict.get(x) + 1\n",
    "    else:\n",
    "        wordDict[x] = 1\n",
    "\n",
    "zoo = sorted(wordDict.items(), key=lambda a: a[1], reverse = True) #sort wordDict in descending order\n",
    "\n",
    "#print results\n",
    "print('The top ten words in austen-persuasion.txt are...')\n",
    "for x in zoo[0:10]:\n",
    "    print(x[0],':',x[1])\n"
   ]
  },
  {
   "cell_type": "code",
   "execution_count": null,
   "metadata": {
    "collapsed": true
   },
   "outputs": [],
   "source": []
  }
 ],
 "metadata": {
  "anaconda-cloud": {},
  "kernelspec": {
   "display_name": "Python [conda root]",
   "language": "python",
   "name": "conda-root-py"
  },
  "language_info": {
   "codemirror_mode": {
    "name": "ipython",
    "version": 3
   },
   "file_extension": ".py",
   "mimetype": "text/x-python",
   "name": "python",
   "nbconvert_exporter": "python",
   "pygments_lexer": "ipython3",
   "version": "3.5.2"
  }
 },
 "nbformat": 4,
 "nbformat_minor": 1
}
