{
 "cells": [
  {
   "cell_type": "markdown",
   "metadata": {},
   "source": [
    "# Question 7\n",
    "- Use Name corpus, calculate the probability of a name being of a male or female base on the last character(s) of name.\n",
    "- Sample steps:\n",
    "- For char ‘a’:\n",
    "\ttotal_names = sum(names ending with ‘a’)\n",
    "\tmale_names = sum(male names ending with ‘a’)\n",
    "\tfemale_names = sum(female names ending with ‘a’)\n",
    "\tProbability of name being male = 100 * male_names / total_names\n",
    "2. Do this for all characters. \n",
    "- Output must come with proper title (e.g. [a] male: 25%, female: 60%)\n"
   ]
  },
  {
   "cell_type": "code",
   "execution_count": 26,
   "metadata": {
    "collapsed": false
   },
   "outputs": [
    {
     "data": {
      "text/plain": [
       "['female.txt', 'male.txt']"
      ]
     },
     "execution_count": 26,
     "metadata": {},
     "output_type": "execute_result"
    }
   ],
   "source": [
    "import nltk\n",
    "import string\n",
    "alphabet = list(string.ascii_lowercase)\n",
    "nltk.corpus.names.fileids()"
   ]
  },
  {
   "cell_type": "code",
   "execution_count": 98,
   "metadata": {
    "collapsed": false
   },
   "outputs": [
    {
     "name": "stdout",
     "output_type": "stream",
     "text": [
      "[a] male: 2%, female: 98%\n",
      "[b] male: 70%, female: 30%\n",
      "[c] male: 100%, female: 0%\n",
      "[d] male: 85%, female: 15%\n",
      "[e] male: 25%, female: 75%\n",
      "[f] male: 93%, female: 7%\n",
      "[g] male: 76%, female: 24%\n",
      "[h] male: 47%, female: 53%\n",
      "[i] male: 14%, female: 86%\n",
      "[j] male: 75%, female: 25%\n",
      "[k] male: 96%, female: 4%\n",
      "[l] male: 51%, female: 49%\n",
      "[m] male: 84%, female: 16%\n",
      "[n] male: 55%, female: 45%\n",
      "[o] male: 83%, female: 17%\n",
      "[p] male: 90%, female: 10%\n",
      "[q] male: 0%, female: 0%\n",
      "[r] male: 80%, female: 20%\n",
      "[s] male: 71%, female: 29%\n",
      "[t] male: 71%, female: 29%\n",
      "[u] male: 67%, female: 33%\n",
      "[v] male: 89%, female: 11%\n",
      "[w] male: 77%, female: 23%\n",
      "[x] male: 50%, female: 50%\n",
      "[y] male: 42%, female: 58%\n",
      "[z] male: 73%, female: 27%\n"
     ]
    }
   ],
   "source": [
    "maleNames = nltk.corpus.names.words('male.txt')\n",
    "femaleNames = nltk.corpus.names.words('female.txt')\n",
    "\n",
    "totals = dict()\n",
    "for x in alphabet:\n",
    "    totals[x] = dict(female=0,male=0)\n",
    "    \n",
    "for x in femaleNames:\n",
    "    if x[-1] in totals:\n",
    "        totals[x[-1]]['female'] += 1\n",
    "\n",
    "for x in maleNames:\n",
    "    if x[-1] in totals:\n",
    "        totals[x[-1]]['male'] += 1\n",
    "\n",
    "sortList = []\n",
    "for x in totals:\n",
    "    total = totals.get(x).get('female') + totals.get(x).get('male')\n",
    "    if total < 1: total=0.25\n",
    "    mp = totals.get(x).get('male')/total * 100\n",
    "    fp = totals.get(x).get('female')/total * 100\n",
    "    sortList.append([x,mp,fp])\n",
    "    #print('['+ x +']','male:',\"%.2f\" % mp,','+' female:', \"%.2f\" % fp)\n",
    "\n",
    "sortList.sort()\n",
    "for x in sortList:\n",
    "    print('['+ x[0] +']','male:',\"%.f\" % x[1]+'%'+','+' female:', \"%.f\" % x[2]+'%')\n",
    "\n",
    "\n",
    "#print(totals)\n",
    "# some = dict()\n",
    "# some['a'] = dict(male = 1, female = 2)\n",
    "# #some['b'].get('female') = 5\n",
    "# some['a']['female'] = some.get('a').get('female') +1\n",
    "# print(some)\n",
    "# print(some['a'])\n",
    "# print(some['a']['male'])\n",
    "# print(some.get('a').get('female'))\n"
   ]
  },
  {
   "cell_type": "code",
   "execution_count": 93,
   "metadata": {
    "collapsed": false
   },
   "outputs": [
    {
     "name": "stdout",
     "output_type": "stream",
     "text": [
      "['Gale ']\n"
     ]
    }
   ],
   "source": [
    "suttin = [x for x in femaleNames if x.endswith(' ')]\n",
    "print(suttin)"
   ]
  },
  {
   "cell_type": "code",
   "execution_count": null,
   "metadata": {
    "collapsed": true
   },
   "outputs": [],
   "source": []
  }
 ],
 "metadata": {
  "anaconda-cloud": {},
  "kernelspec": {
   "display_name": "Python [conda root]",
   "language": "python",
   "name": "conda-root-py"
  },
  "language_info": {
   "codemirror_mode": {
    "name": "ipython",
    "version": 3
   },
   "file_extension": ".py",
   "mimetype": "text/x-python",
   "name": "python",
   "nbconvert_exporter": "python",
   "pygments_lexer": "ipython3",
   "version": "3.5.2"
  }
 },
 "nbformat": 4,
 "nbformat_minor": 1
}
