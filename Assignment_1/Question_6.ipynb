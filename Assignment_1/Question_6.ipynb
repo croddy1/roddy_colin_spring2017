{
 "cells": [
  {
   "cell_type": "markdown",
   "metadata": {},
   "source": [
    "# Question 6\n",
    "- Under Inaugural Address package\n",
    "- For every president, find out how many unique words they used in speech. \n",
    "- We will just assume that President Bush means one person (technically it is incorrect but we will ignore it)\n"
   ]
  },
  {
   "cell_type": "code",
   "execution_count": 2,
   "metadata": {
    "collapsed": true
   },
   "outputs": [],
   "source": [
    "import nltk\n",
    "import string\n",
    "from nltk.corpus import inaugural"
   ]
  },
  {
   "cell_type": "code",
   "execution_count": 4,
   "metadata": {
    "collapsed": false
   },
   "outputs": [
    {
     "name": "stdout",
     "output_type": "stream",
     "text": [
      "Harrison : 2545\n",
      "Monroe : 1688\n",
      "Roosevelt : 1607\n",
      "McKinley : 1606\n",
      "Bush : 1481\n",
      "Adams : 1441\n",
      "Taft : 1378\n",
      "Reagan : 1369\n",
      "Polk : 1260\n",
      "VanBuren : 1254\n",
      "Jefferson : 1208\n",
      "Eisenhower : 1184\n",
      "Lincoln : 1180\n",
      "Cleveland : 1168\n",
      "Coolidge : 1160\n",
      "Harding : 1119\n",
      "Pierce : 1117\n",
      "Clinton : 1058\n",
      "Hoover : 993\n",
      "Nixon : 982\n",
      "Garfield : 973\n",
      "Wilson : 950\n",
      "Buchanan : 893\n",
      "Obama : 892\n",
      "Madison : 865\n",
      "Grant : 815\n",
      "Jackson : 810\n",
      "Hayes : 803\n",
      "Truman : 741\n",
      "Washington : 628\n",
      "Kennedy : 538\n",
      "Johnson : 530\n",
      "Carter : 495\n",
      "Taylor : 483\n"
     ]
    }
   ],
   "source": [
    "titles = inaugural.fileids()\n",
    "speeches = dict()\n",
    "names = []\n",
    "\n",
    "#for each speech, lowercase and store all words in speeches dictionary with\n",
    "#President name as the key\n",
    "for x in titles:\n",
    "    _name = x[0:-4] #get name minus '.txt'\n",
    "    this = _name.split('-')\n",
    "    name = this[1] #remove date from title to collect name\n",
    "    words = [z.lower() for z in inaugural.words(x)] #lowercase speech\n",
    "    speech = [foo for foo in words if foo not in string.punctuation] #remove punctuation\n",
    "    \n",
    "    #if President is in speeches dictionary, add current speech to current President key\n",
    "    #else add President to dictionary and add speech\n",
    "    if name in speeches:\n",
    "        speeches[name] = speeches.get(name) + speech\n",
    "    else:\n",
    "        speeches[name] = speech\n",
    "        \n",
    "    names.append(name)\n",
    "\n",
    "names = list(set(names)) #remove duplicate Presidents from name list\n",
    "speechNumbers = dict()\n",
    "\n",
    "#for each President, remove duplicate words from speeches and count\n",
    "#number of unique words\n",
    "for president in speeches.keys():\n",
    "    speeches[president] = list(set(speeches.get(president)))\n",
    "    speechNumbers[president] = len(speeches.get(president))\n",
    "\n",
    "#sort the list of speeches by number of unique words\n",
    "zoo = sorted(speechNumbers.items(), key=lambda a: a[1], reverse = True)\n",
    "\n",
    "for pres in zoo:\n",
    "    print(pres[0], ':', pres[1])\n"
   ]
  },
  {
   "cell_type": "code",
   "execution_count": null,
   "metadata": {
    "collapsed": true
   },
   "outputs": [],
   "source": []
  }
 ],
 "metadata": {
  "anaconda-cloud": {},
  "kernelspec": {
   "display_name": "Python [conda root]",
   "language": "python",
   "name": "conda-root-py"
  },
  "language_info": {
   "codemirror_mode": {
    "name": "ipython",
    "version": 3
   },
   "file_extension": ".py",
   "mimetype": "text/x-python",
   "name": "python",
   "nbconvert_exporter": "python",
   "pygments_lexer": "ipython3",
   "version": "3.5.2"
  }
 },
 "nbformat": 4,
 "nbformat_minor": 1
}
