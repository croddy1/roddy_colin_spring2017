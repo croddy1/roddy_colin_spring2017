{
 "cells": [
  {
   "cell_type": "markdown",
   "metadata": {},
   "source": [
    "# Question 5\n",
    "- Use Gutenberg and Web_text data. Find out what are the top 5 words that Shakespeare used but we do not currently use.\n",
    "- Take top 50 words from Shakespeare (all 3 books) and top 50 from Web_text (all the records).\n",
    "- Remove the words we still use today, and get the stop words list. Show the top 5 elements. \n"
   ]
  },
  {
   "cell_type": "code",
   "execution_count": 1,
   "metadata": {
    "collapsed": true
   },
   "outputs": [],
   "source": [
    "import nltk\n",
    "from nltk.corpus import webtext"
   ]
  },
  {
   "cell_type": "code",
   "execution_count": 3,
   "metadata": {
    "collapsed": false
   },
   "outputs": [
    {
     "name": "stdout",
     "output_type": "stream",
     "text": [
      "['firefox.txt', 'grail.txt', 'overheard.txt', 'pirates.txt', 'singles.txt', 'wine.txt']\n",
      "The top five words we no longer use are...\n",
      "haue is mentioned 448 times\n",
      "vpon is mentioned 162 times\n",
      "brutus is mentioned 162 times\n",
      "bru is mentioned 153 times\n",
      "hath is mentioned 144 times\n"
     ]
    }
   ],
   "source": [
    "#import necessary text\n",
    "nltk.corpus.gutenberg.fileids()\n",
    "caesarTxt = nltk.corpus.gutenberg.words('shakespeare-caesar.txt')\n",
    "hamletTxt = nltk.corpus.gutenberg.words('shakespeare-hamlet.txt')\n",
    "macbethTxt = nltk.corpus.gutenberg.words('shakespeare-macbeth.txt')\n",
    "\n",
    "#frequency takes in a list of words\n",
    "#returns ordered list of tuples containing word and count\n",
    "def frequency(lowerWords):\n",
    "    wordDict = dict()\n",
    "    for x in lowerWords:\n",
    "        if x in wordDict:\n",
    "            wordDict[x] = wordDict.get(x) + 1\n",
    "        else:\n",
    "            wordDict[x] = 1\n",
    "    zoo = sorted(wordDict.items(), key=lambda a: a[1], reverse = True)\n",
    "    return zoo\n",
    "\n",
    "#create set of lowercase unique words from each text\n",
    "lowCae = [word.lower() for word in caesarTxt]\n",
    "unCae = list(set(lowCae))\n",
    "lowHam = [word.lower() for word in hamletTxt]\n",
    "unHam = list(set(lowHam))\n",
    "lowMac = [word.lower() for word in macbethTxt]\n",
    "unMac = list(set(lowMac))\n",
    "\n",
    "allTxt = list(set(unCae + unHam + unMac)) #list of all unique words from Shakespeare's work\n",
    "everyTxt = lowCae + lowHam + lowMac #all Shakespeare text\n",
    "webs = webtext.fileids() \n",
    "\n",
    "webTxt = []\n",
    "#create a list of all words from webtext\n",
    "for x in webs:\n",
    "    txt = webtext.words(x) #collect words from each file\n",
    "    holder = list(set(word.lower() for word in txt)) #unique set of all words that have been lowercased\n",
    "    webTxt += holder #concatinate words from all files\n",
    "\n",
    "unWeb = list(set(webTxt)) #remove duplicate words from list of web words\n",
    "unCommon = [word for word in allTxt if word not in unWeb] #copy words from Shakespeare not in web text\n",
    "\n",
    "vals = []\n",
    "#count how many times each word in unCommon occures in all Shakespeare text\n",
    "for x in unCommon:\n",
    "    vals.append([everyTxt.count(x),x])\n",
    "\n",
    "vals.sort(reverse=True) #sort list of words by their count\n",
    "\n",
    "print('The top five words we no longer use are...')\n",
    "for word in vals[0:5]:\n",
    "    print(word[1],'is mentioned',word[0], 'times')"
   ]
  },
  {
   "cell_type": "code",
   "execution_count": null,
   "metadata": {
    "collapsed": true
   },
   "outputs": [],
   "source": []
  }
 ],
 "metadata": {
  "anaconda-cloud": {},
  "kernelspec": {
   "display_name": "Python [conda root]",
   "language": "python",
   "name": "conda-root-py"
  },
  "language_info": {
   "codemirror_mode": {
    "name": "ipython",
    "version": 3
   },
   "file_extension": ".py",
   "mimetype": "text/x-python",
   "name": "python",
   "nbconvert_exporter": "python",
   "pygments_lexer": "ipython3",
   "version": "3.5.2"
  }
 },
 "nbformat": 4,
 "nbformat_minor": 1
}
