{
 "cells": [
  {
   "cell_type": "markdown",
   "metadata": {},
   "source": [
    "# Question 7\n",
    "- Use Name corpus, calculate the probability of a name being of a male or female base on the last character(s) of name.\n",
    "- Sample steps:\n",
    "- For char ‘a’:\n",
    "\ttotal_names = sum(names ending with ‘a’)\n",
    "\tmale_names = sum(male names ending with ‘a’)\n",
    "\tfemale_names = sum(female names ending with ‘a’)\n",
    "\tProbability of name being male = 100 * male_names / total_names\n",
    "2. Do this for all characters. \n",
    "- Output must come with proper title (e.g. [a] male: 25%, female: 60%)\n"
   ]
  },
  {
   "cell_type": "code",
   "execution_count": 1,
   "metadata": {
    "collapsed": false
   },
   "outputs": [],
   "source": [
    "import nltk\n",
    "import string\n",
    "alphabet = list(string.ascii_lowercase)"
   ]
  },
  {
   "cell_type": "code",
   "execution_count": 2,
   "metadata": {
    "collapsed": false
   },
   "outputs": [
    {
     "name": "stdout",
     "output_type": "stream",
     "text": [
      "[a] male: 2%, female: 98%\n",
      "[b] male: 70%, female: 30%\n",
      "[c] male: 100%, female: 0%\n",
      "[d] male: 85%, female: 15%\n",
      "[e] male: 25%, female: 75%\n",
      "[f] male: 93%, female: 7%\n",
      "[g] male: 76%, female: 24%\n",
      "[h] male: 47%, female: 53%\n",
      "[i] male: 14%, female: 86%\n",
      "[j] male: 75%, female: 25%\n",
      "[k] male: 96%, female: 4%\n",
      "[l] male: 51%, female: 49%\n",
      "[m] male: 84%, female: 16%\n",
      "[n] male: 55%, female: 45%\n",
      "[o] male: 83%, female: 17%\n",
      "[p] male: 90%, female: 10%\n",
      "[q] male: 0%, female: 0%\n",
      "[r] male: 80%, female: 20%\n",
      "[s] male: 71%, female: 29%\n",
      "[t] male: 71%, female: 29%\n",
      "[u] male: 67%, female: 33%\n",
      "[v] male: 89%, female: 11%\n",
      "[w] male: 77%, female: 23%\n",
      "[x] male: 50%, female: 50%\n",
      "[y] male: 42%, female: 58%\n",
      "[z] male: 73%, female: 27%\n"
     ]
    }
   ],
   "source": [
    "maleNames = nltk.corpus.names.words('male.txt') #collect male names\n",
    "femaleNames = nltk.corpus.names.words('female.txt') #collect female names\n",
    "\n",
    "#create empty dictionary of male/female names with alphabet as the key\n",
    "totals = dict()\n",
    "for x in alphabet:\n",
    "    totals[x] = dict(female=0,male=0)\n",
    "\n",
    "#read last character of each female name\n",
    "#for each character, add one to count in totals dictionary\n",
    "for x in femaleNames:\n",
    "    if x[-1] in totals:\n",
    "        totals[x[-1]]['female'] += 1\n",
    "\n",
    "#read last character of each male name\n",
    "#for each character, add one to count in totals dictionary\n",
    "for x in maleNames:\n",
    "    if x[-1] in totals:\n",
    "        totals[x[-1]]['male'] += 1\n",
    "\n",
    "#build list of percentages for each character of each gender\n",
    "sortList = []\n",
    "for x in totals:\n",
    "    total = totals.get(x).get('female') + totals.get(x).get('male') #calculate total for each character\n",
    "    if total < 1: total=0.25 #account for any characters that have a total of 0 to avoid dividing by 0\n",
    "    mp = totals.get(x).get('male')/total * 100 #calculate percentage for male names\n",
    "    fp = totals.get(x).get('female')/total * 100 #calculate percentage for female names\n",
    "    sortList.append([x,mp,fp]) #store in list\n",
    "\n",
    "sortList.sort()\n",
    "for x in sortList:\n",
    "    print('['+ x[0] +']','male:',\"%.f\" % x[1]+'%'+','+' female:', \"%.f\" % x[2]+'%')\n"
   ]
  },
  {
   "cell_type": "code",
   "execution_count": null,
   "metadata": {
    "collapsed": true
   },
   "outputs": [],
   "source": []
  }
 ],
 "metadata": {
  "anaconda-cloud": {},
  "kernelspec": {
   "display_name": "Python [conda root]",
   "language": "python",
   "name": "conda-root-py"
  },
  "language_info": {
   "codemirror_mode": {
    "name": "ipython",
    "version": 3
   },
   "file_extension": ".py",
   "mimetype": "text/x-python",
   "name": "python",
   "nbconvert_exporter": "python",
   "pygments_lexer": "ipython3",
   "version": "3.5.2"
  }
 },
 "nbformat": 4,
 "nbformat_minor": 1
}
