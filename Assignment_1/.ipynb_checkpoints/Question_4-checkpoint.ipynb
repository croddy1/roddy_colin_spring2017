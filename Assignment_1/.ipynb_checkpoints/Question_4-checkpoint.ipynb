{
 "cells": [
  {
   "cell_type": "markdown",
   "metadata": {},
   "source": [
    "# Question 4\n",
    "- Under package nps_chat, see what files are in it.\n",
    "- Find 'user121' and see how many posts he posted in all.\n",
    "- Find out how many unique user in each age range group. (20s, 30s,...)(Hint: files' name)\n"
   ]
  },
  {
   "cell_type": "code",
   "execution_count": 41,
   "metadata": {
    "collapsed": false
   },
   "outputs": [],
   "source": [
    "import nltk\n",
    "from nltk.corpus import nps_chat "
   ]
  },
  {
   "cell_type": "code",
   "execution_count": 97,
   "metadata": {
    "collapsed": false
   },
   "outputs": [
    {
     "name": "stdout",
     "output_type": "stream",
     "text": [
      "Files under nps_chat:\n",
      "10-19-20s_706posts.xml\n",
      "10-19-30s_705posts.xml\n",
      "10-19-40s_686posts.xml\n",
      "10-19-adults_706posts.xml\n",
      "10-24-40s_706posts.xml\n",
      "10-26-teens_706posts.xml\n",
      "11-06-adults_706posts.xml\n",
      "11-08-20s_705posts.xml\n",
      "11-08-40s_706posts.xml\n",
      "11-08-adults_705posts.xml\n",
      "11-08-teens_706posts.xml\n",
      "11-09-20s_706posts.xml\n",
      "11-09-40s_706posts.xml\n",
      "11-09-adults_706posts.xml\n",
      "11-09-teens_706posts.xml\n"
     ]
    }
   ],
   "source": [
    "print('Files under nps_chat:')\n",
    "for x in nps_chat.fileids(): #files under nps_chat\n",
    "    print(x)"
   ]
  },
  {
   "cell_type": "code",
   "execution_count": 98,
   "metadata": {
    "collapsed": false
   },
   "outputs": [
    {
     "name": "stdout",
     "output_type": "stream",
     "text": [
      "User121 posts 132 times\n"
     ]
    }
   ],
   "source": [
    "chatList = nps_chat.fileids()\n",
    "totalUser121 = 0\n",
    "for x in chatList:\n",
    "    postText = nps_chat.raw(x)\n",
    "    postSplit = x.split('_')\n",
    "    boo = 'user=\"' + postSplit[0] + 'User121'\n",
    "    aCount = postText.count(boo)\n",
    "    totalUser121 += aCount\n",
    "print('User121 posts',totalUser121,'times')"
   ]
  },
  {
   "cell_type": "code",
   "execution_count": 99,
   "metadata": {
    "collapsed": false
   },
   "outputs": [
    {
     "name": "stdout",
     "output_type": "stream",
     "text": [
      "There are 305 unique users in their 20s\n",
      "There are 44 unique users in their 30s\n",
      "There are 228 unique users in their 40s\n",
      "There are 443 unique users in their teens\n",
      "There are 357 unique adult users\n",
      "There are 1377 total unique users\n"
     ]
    }
   ],
   "source": [
    "allData = nps_chat.raw()\n",
    "chatList = nps_chat.fileids()\n",
    "splitData = allData.split('user=\"')\n",
    "\n",
    "userList = []\n",
    "for x in splitData:\n",
    "    for y in chatList:\n",
    "        postSplit = y.split('_')\n",
    "        if x.startswith(y[0]):\n",
    "            xSplit = x.split('\"')\n",
    "            userList.append(xSplit[0])\n",
    "\n",
    "uniqueList = list(set(userList))\n",
    "count20 = 0\n",
    "count30 = 0\n",
    "count40 = 0\n",
    "countTeen = 0\n",
    "countAdult = 0\n",
    "for x in uniqueList:\n",
    "    if x.count('20s'):\n",
    "        count20 += 1\n",
    "    if x.count('30s'):\n",
    "        count30 += 1\n",
    "    if x.count('40s'):\n",
    "        count40 += 1\n",
    "    if x.count('teens'):\n",
    "        countTeen += 1\n",
    "    if x.count('adult'):\n",
    "        countAdult += 1\n",
    "        \n",
    "print('There are', count20 ,'unique users in their 20s')\n",
    "print('There are', count30 ,'unique users in their 30s')\n",
    "print('There are', count40 ,'unique users in their 40s')\n",
    "print('There are', countTeen,'unique users in their teens')\n",
    "print('There are', countAdult ,'unique adult users')\n",
    "print('There are', len(uniqueList) ,'total unique users')"
   ]
  },
  {
   "cell_type": "code",
   "execution_count": null,
   "metadata": {
    "collapsed": true
   },
   "outputs": [],
   "source": [
    "#print(nps_chat.raw('10-26-teens_706posts.xml'))"
   ]
  }
 ],
 "metadata": {
  "anaconda-cloud": {},
  "kernelspec": {
   "display_name": "Python [conda root]",
   "language": "python",
   "name": "conda-root-py"
  },
  "language_info": {
   "codemirror_mode": {
    "name": "ipython",
    "version": 3
   },
   "file_extension": ".py",
   "mimetype": "text/x-python",
   "name": "python",
   "nbconvert_exporter": "python",
   "pygments_lexer": "ipython3",
   "version": "3.5.2"
  }
 },
 "nbformat": 4,
 "nbformat_minor": 1
}
