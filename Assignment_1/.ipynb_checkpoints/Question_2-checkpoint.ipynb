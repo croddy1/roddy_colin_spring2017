{
 "cells": [
  {
   "cell_type": "markdown",
   "metadata": {},
   "source": [
    "# Question 2\n",
    "- Under package Gutenberg get content from file 'melville-moby_dick.txt.' (HINT: Words? Raw?)\n",
    "- Find out frequency of 26 characters. (Turn uppercase into lowercase and count as one character)\n",
    "- List all 26 characters in order base on their frequency. (From most frequent to least frequent)\n",
    "- Try NOT to use FreqDist module.\n"
   ]
  },
  {
   "cell_type": "code",
   "execution_count": 10,
   "metadata": {
    "collapsed": true
   },
   "outputs": [],
   "source": [
    "import nltk\n",
    "import string "
   ]
  },
  {
   "cell_type": "code",
   "execution_count": 16,
   "metadata": {
    "collapsed": false
   },
   "outputs": [
    {
     "name": "stdout",
     "output_type": "stream",
     "text": [
      "e : 117092\n",
      "t : 87996\n",
      "a : 77916\n",
      "o : 69326\n",
      "n : 65617\n",
      "i : 65434\n",
      "s : 64231\n",
      "h : 62896\n",
      "r : 52134\n",
      "l : 42793\n",
      "d : 38219\n",
      "u : 26697\n",
      "m : 23277\n",
      "c : 22507\n",
      "w : 22222\n",
      "f : 20833\n",
      "g : 20820\n",
      "p : 17255\n",
      "b : 16877\n",
      "y : 16872\n",
      "v : 8598\n",
      "k : 8059\n",
      "q : 1556\n",
      "j : 1082\n",
      "x : 1030\n",
      "z : 632\n"
     ]
    }
   ],
   "source": [
    "raw = nltk.corpus.gutenberg.raw('melville-moby_dick.txt') #capture raw data from Moby Dick\n",
    "moby = raw.lower() #lowercase everything in Moby Dick\n",
    "alphabet = list(string.ascii_lowercase) #create list of alphabet\n",
    "alist = [] #initialize empty list\n",
    "\n",
    "# for each letter in the alphabet, count how many occurances there are in Moby Dick\n",
    "for x in alphabet:\n",
    "    alist.append((moby.count(x),x))\n",
    "    \n",
    "alist.sort(reverse=True) #sort the list by frequency in descending order\n",
    "\n",
    "for n in alist:\n",
    "    print(n[1],':',n[0])"
   ]
  },
  {
   "cell_type": "code",
   "execution_count": null,
   "metadata": {
    "collapsed": true
   },
   "outputs": [],
   "source": []
  }
 ],
 "metadata": {
  "anaconda-cloud": {},
  "kernelspec": {
   "display_name": "Python [conda root]",
   "language": "python",
   "name": "conda-root-py"
  },
  "language_info": {
   "codemirror_mode": {
    "name": "ipython",
    "version": 3
   },
   "file_extension": ".py",
   "mimetype": "text/x-python",
   "name": "python",
   "nbconvert_exporter": "python",
   "pygments_lexer": "ipython3",
   "version": "3.5.2"
  }
 },
 "nbformat": 4,
 "nbformat_minor": 1
}
