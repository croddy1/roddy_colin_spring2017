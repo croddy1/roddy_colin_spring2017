{
 "cells": [
  {
   "cell_type": "markdown",
   "metadata": {},
   "source": [
    "# Question 3\n",
    "- Under package Webtext, see what files are in it.\n",
    "- Get content in file 'pirates.txt'.\n",
    "- According to the number of lines for Jack Sparrow and Will Turner, find out who is the real leading man in this movie.\n"
   ]
  },
  {
   "cell_type": "code",
   "execution_count": 2,
   "metadata": {
    "collapsed": false
   },
   "outputs": [],
   "source": [
    "import nltk\n",
    "from nltk.corpus import webtext"
   ]
  },
  {
   "cell_type": "code",
   "execution_count": 23,
   "metadata": {
    "collapsed": false
   },
   "outputs": [
    {
     "name": "stdout",
     "output_type": "stream",
     "text": [
      "firefox.txt\n",
      "grail.txt\n",
      "overheard.txt\n",
      "pirates.txt\n",
      "singles.txt\n",
      "wine.txt\n"
     ]
    }
   ],
   "source": [
    "for x in webtext.fileids(): #files under webtext\n",
    "    print(x)"
   ]
  },
  {
   "cell_type": "code",
   "execution_count": 21,
   "metadata": {
    "collapsed": false
   },
   "outputs": [
    {
     "name": "stdout",
     "output_type": "stream",
     "text": [
      "Will has 133 lines\n",
      "Jack has 193 lines\n",
      "Jack is the main character\n"
     ]
    }
   ],
   "source": [
    "aar = webtext.raw('pirates.txt') #retrieve the raw data from pirates.txt\n",
    "will = 'WILL TURNER:' #each of Will's lines start with this string\n",
    "jack = 'JACK SPARROW:' #each of Jack's lines start with this string\n",
    "willLines = aar.count(will) #count the number of times Will speaks\n",
    "jackLines = aar.count(jack) #count the number of times Jack speaks\n",
    "\n",
    "print('Will has', willLines,'lines')\n",
    "print('Jack has', jackLines,'lines')\n",
    "\n",
    "#select the main character based on number of lines\n",
    "if willLines > jackLines:\n",
    "    print('Will is the main character')\n",
    "else:\n",
    "    print('Jack is the main character')\n",
    "    "
   ]
  },
  {
   "cell_type": "code",
   "execution_count": null,
   "metadata": {
    "collapsed": true
   },
   "outputs": [],
   "source": []
  }
 ],
 "metadata": {
  "anaconda-cloud": {},
  "kernelspec": {
   "display_name": "Python [conda root]",
   "language": "python",
   "name": "conda-root-py"
  },
  "language_info": {
   "codemirror_mode": {
    "name": "ipython",
    "version": 3
   },
   "file_extension": ".py",
   "mimetype": "text/x-python",
   "name": "python",
   "nbconvert_exporter": "python",
   "pygments_lexer": "ipython3",
   "version": "3.5.2"
  }
 },
 "nbformat": 4,
 "nbformat_minor": 1
}
