{
 "cells": [
  {
   "cell_type": "markdown",
   "metadata": {},
   "source": [
    "# Question 6\n",
    "- Under Inaugural Address package\n",
    "- For every president, find out how many unique words they used in speech. \n",
    "- We will just assume that President Bush means one person (technically it is incorrect but we will ignore it)\n"
   ]
  },
  {
   "cell_type": "code",
   "execution_count": 9,
   "metadata": {
    "collapsed": true
   },
   "outputs": [],
   "source": [
    "import nltk\n",
    "import string\n",
    "from nltk.corpus import inaugural"
   ]
  },
  {
   "cell_type": "code",
   "execution_count": 49,
   "metadata": {
    "collapsed": false
   },
   "outputs": [
    {
     "name": "stdout",
     "output_type": "stream",
     "text": [
      "34\n",
      "Harrison : 2545\n",
      "Monroe : 1688\n",
      "Roosevelt : 1607\n",
      "McKinley : 1606\n",
      "Bush : 1481\n",
      "Adams : 1441\n",
      "Taft : 1378\n",
      "Reagan : 1369\n",
      "Polk : 1260\n",
      "VanBuren : 1254\n",
      "Jefferson : 1208\n",
      "Eisenhower : 1184\n",
      "Lincoln : 1180\n",
      "Cleveland : 1168\n",
      "Coolidge : 1160\n",
      "Harding : 1119\n",
      "Pierce : 1117\n",
      "Clinton : 1058\n",
      "Hoover : 993\n",
      "Nixon : 982\n",
      "Garfield : 973\n",
      "Wilson : 950\n",
      "Buchanan : 893\n",
      "Obama : 892\n",
      "Madison : 865\n",
      "Grant : 815\n",
      "Jackson : 810\n",
      "Hayes : 803\n",
      "Truman : 741\n",
      "Washington : 628\n",
      "Kennedy : 538\n",
      "Johnson : 530\n",
      "Carter : 495\n",
      "Taylor : 483\n"
     ]
    }
   ],
   "source": [
    "titles = inaugural.fileids()\n",
    "speeches = dict()\n",
    "names = []\n",
    "for x in titles:\n",
    "    _name = x[0:-4]\n",
    "    this = _name.split('-')\n",
    "    name = this[1]\n",
    "    words = [z.lower() for z in inaugural.words(x)]\n",
    "    speech = [foo for foo in words if foo not in string.punctuation]\n",
    "    \n",
    "    if name in speeches:\n",
    "        speeches[name] = speeches.get(name) + speech\n",
    "    else:\n",
    "        speeches[name] = speech\n",
    "        \n",
    "    names.append(name)\n",
    "\n",
    "print(len(speeches))\n",
    "\n",
    "names = list(set(names))\n",
    "speechNumbers = dict()\n",
    "for president in speeches.keys():\n",
    "    speeches[president] = list(set(speeches.get(president)))\n",
    "    speechNumbers[president] = len(speeches.get(president))\n",
    "    \n",
    "zoo = sorted(speechNumbers.items(), key=lambda a: a[1], reverse = True)\n",
    "\n",
    "for pres in zoo:\n",
    "    print(pres[0], ':', pres[1])\n"
   ]
  },
  {
   "cell_type": "code",
   "execution_count": 50,
   "metadata": {
    "collapsed": false
   },
   "outputs": [
    {
     "name": "stdout",
     "output_type": "stream",
     "text": [
      "['1789-Washington.txt', '1793-Washington.txt', '1797-Adams.txt', '1801-Jefferson.txt', '1805-Jefferson.txt', '1809-Madison.txt', '1813-Madison.txt', '1817-Monroe.txt', '1821-Monroe.txt', '1825-Adams.txt', '1829-Jackson.txt', '1833-Jackson.txt', '1837-VanBuren.txt', '1841-Harrison.txt', '1845-Polk.txt', '1849-Taylor.txt', '1853-Pierce.txt', '1857-Buchanan.txt', '1861-Lincoln.txt', '1865-Lincoln.txt', '1869-Grant.txt', '1873-Grant.txt', '1877-Hayes.txt', '1881-Garfield.txt', '1885-Cleveland.txt', '1889-Harrison.txt', '1893-Cleveland.txt', '1897-McKinley.txt', '1901-McKinley.txt', '1905-Roosevelt.txt', '1909-Taft.txt', '1913-Wilson.txt', '1917-Wilson.txt', '1921-Harding.txt', '1925-Coolidge.txt', '1929-Hoover.txt', '1933-Roosevelt.txt', '1937-Roosevelt.txt', '1941-Roosevelt.txt', '1945-Roosevelt.txt', '1949-Truman.txt', '1953-Eisenhower.txt', '1957-Eisenhower.txt', '1961-Kennedy.txt', '1965-Johnson.txt', '1969-Nixon.txt', '1973-Nixon.txt', '1977-Carter.txt', '1981-Reagan.txt', '1985-Reagan.txt', '1989-Bush.txt', '1993-Clinton.txt', '1997-Clinton.txt', '2001-Bush.txt', '2005-Bush.txt', '2009-Obama.txt']\n"
     ]
    }
   ],
   "source": [
    "print(inaugural.fileids())"
   ]
  },
  {
   "cell_type": "code",
   "execution_count": 62,
   "metadata": {
    "collapsed": false
   },
   "outputs": [
    {
     "data": {
      "text/plain": [
       "1180"
      ]
     },
     "execution_count": 62,
     "metadata": {},
     "output_type": "execute_result"
    }
   ],
   "source": [
    "some = [z.lower() for z in inaugural.words('1865-Lincoln.txt')] + [z.lower() for z in inaugural.words('1861-Lincoln.txt')]\n",
    "ayo = list(set(some))\n",
    "boo = [x for x in ayo if x not in string.punctuation]\n",
    "len(boo)"
   ]
  },
  {
   "cell_type": "code",
   "execution_count": null,
   "metadata": {
    "collapsed": true
   },
   "outputs": [],
   "source": []
  }
 ],
 "metadata": {
  "anaconda-cloud": {},
  "kernelspec": {
   "display_name": "Python [conda root]",
   "language": "python",
   "name": "conda-root-py"
  },
  "language_info": {
   "codemirror_mode": {
    "name": "ipython",
    "version": 3
   },
   "file_extension": ".py",
   "mimetype": "text/x-python",
   "name": "python",
   "nbconvert_exporter": "python",
   "pygments_lexer": "ipython3",
   "version": "3.5.2"
  }
 },
 "nbformat": 4,
 "nbformat_minor": 1
}
