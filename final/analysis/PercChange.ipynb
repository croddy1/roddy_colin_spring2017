{
 "cells": [
  {
   "cell_type": "code",
   "execution_count": 51,
   "metadata": {
    "collapsed": true
   },
   "outputs": [],
   "source": [
    "import pandas as pd\n",
    "import numpy as np\n",
    "from pandas import DataFrame\n",
    "import matplotlib.pyplot as plt\n",
    "from datetime import datetime,date,timedelta\n",
    "import seaborn as sns\n",
    "import os, warnings\n",
    "from scipy.signal import savgol_filter\n",
    "%matplotlib inline\n",
    "warnings.filterwarnings('ignore')\n",
    "cutOffYear = '1850'"
   ]
  },
  {
   "cell_type": "code",
   "execution_count": 7,
   "metadata": {
    "collapsed": true
   },
   "outputs": [],
   "source": [
    "ctrTemp = pd.read_csv('../data/GlobalLandTemperatures/GlobalLandTemperaturesByCountry.csv')\n",
    "continents = ['North America','South America','Europe','Asia','Africa','Australia','Antarcita']"
   ]
  },
  {
   "cell_type": "code",
   "execution_count": 10,
   "metadata": {
    "collapsed": true
   },
   "outputs": [],
   "source": [
    "continentTemp = ctrTemp[ctrTemp['Country'].isin(continents)]\n",
    "continentTemp = continentTemp.dropna()\n",
    "# print(len(countryTemp))\n",
    "# print(len(continentTemp))\n",
    "countryTemp = ctrTemp[~ctrTemp['Country'].isin(continents)]\n",
    "countryTemp = countryTemp.dropna()\n",
    "countryTemp['Year'] = countryTemp['dt'].apply(lambda x : x[:4])\n",
    "# print(len(countryTemp))\n",
    "# continentTemp.head()"
   ]
  },
  {
   "cell_type": "code",
   "execution_count": 53,
   "metadata": {
    "collapsed": true
   },
   "outputs": [],
   "source": [
    "#trimming for quality data\n",
    "countryTemp = countryTemp[countryTemp['Year'] >= cutOffYear]"
   ]
  },
  {
   "cell_type": "code",
   "execution_count": 54,
   "metadata": {
    "collapsed": false
   },
   "outputs": [
    {
     "data": {
      "text/html": [
       "<div>\n",
       "<table border=\"1\" class=\"dataframe\">\n",
       "  <thead>\n",
       "    <tr style=\"text-align: right;\">\n",
       "      <th></th>\n",
       "      <th>dt</th>\n",
       "      <th>AverageTemperature</th>\n",
       "      <th>AverageTemperatureUncertainty</th>\n",
       "      <th>Country</th>\n",
       "      <th>Year</th>\n",
       "    </tr>\n",
       "  </thead>\n",
       "  <tbody>\n",
       "    <tr>\n",
       "      <th>1274</th>\n",
       "      <td>1850-01-01</td>\n",
       "      <td>-9.083</td>\n",
       "      <td>1.834</td>\n",
       "      <td>Åland</td>\n",
       "      <td>1850</td>\n",
       "    </tr>\n",
       "    <tr>\n",
       "      <th>1275</th>\n",
       "      <td>1850-02-01</td>\n",
       "      <td>-2.309</td>\n",
       "      <td>1.603</td>\n",
       "      <td>Åland</td>\n",
       "      <td>1850</td>\n",
       "    </tr>\n",
       "    <tr>\n",
       "      <th>1276</th>\n",
       "      <td>1850-03-01</td>\n",
       "      <td>-4.801</td>\n",
       "      <td>3.033</td>\n",
       "      <td>Åland</td>\n",
       "      <td>1850</td>\n",
       "    </tr>\n",
       "    <tr>\n",
       "      <th>1277</th>\n",
       "      <td>1850-04-01</td>\n",
       "      <td>1.242</td>\n",
       "      <td>2.008</td>\n",
       "      <td>Åland</td>\n",
       "      <td>1850</td>\n",
       "    </tr>\n",
       "    <tr>\n",
       "      <th>1278</th>\n",
       "      <td>1850-05-01</td>\n",
       "      <td>7.920</td>\n",
       "      <td>0.881</td>\n",
       "      <td>Åland</td>\n",
       "      <td>1850</td>\n",
       "    </tr>\n",
       "  </tbody>\n",
       "</table>\n",
       "</div>"
      ],
      "text/plain": [
       "              dt  AverageTemperature  AverageTemperatureUncertainty Country  \\\n",
       "1274  1850-01-01              -9.083                          1.834   Åland   \n",
       "1275  1850-02-01              -2.309                          1.603   Åland   \n",
       "1276  1850-03-01              -4.801                          3.033   Åland   \n",
       "1277  1850-04-01               1.242                          2.008   Åland   \n",
       "1278  1850-05-01               7.920                          0.881   Åland   \n",
       "\n",
       "      Year  \n",
       "1274  1850  \n",
       "1275  1850  \n",
       "1276  1850  \n",
       "1277  1850  \n",
       "1278  1850  "
      ]
     },
     "execution_count": 54,
     "metadata": {},
     "output_type": "execute_result"
    }
   ],
   "source": [
    "countryTemp.head()"
   ]
  },
  {
   "cell_type": "code",
   "execution_count": 55,
   "metadata": {
    "collapsed": false
   },
   "outputs": [
    {
     "data": {
      "text/html": [
       "<div>\n",
       "<table border=\"1\" class=\"dataframe\">\n",
       "  <thead>\n",
       "    <tr style=\"text-align: right;\">\n",
       "      <th></th>\n",
       "      <th>Country</th>\n",
       "      <th>Year</th>\n",
       "      <th>AverageTemperature</th>\n",
       "      <th>AverageTemperatureUncertainty</th>\n",
       "    </tr>\n",
       "  </thead>\n",
       "  <tbody>\n",
       "    <tr>\n",
       "      <th>0</th>\n",
       "      <td>Afghanistan</td>\n",
       "      <td>1850</td>\n",
       "      <td>13.326083</td>\n",
       "      <td>1.961917</td>\n",
       "    </tr>\n",
       "    <tr>\n",
       "      <th>1</th>\n",
       "      <td>Afghanistan</td>\n",
       "      <td>1851</td>\n",
       "      <td>13.605667</td>\n",
       "      <td>2.048500</td>\n",
       "    </tr>\n",
       "    <tr>\n",
       "      <th>2</th>\n",
       "      <td>Afghanistan</td>\n",
       "      <td>1852</td>\n",
       "      <td>13.541167</td>\n",
       "      <td>2.253833</td>\n",
       "    </tr>\n",
       "    <tr>\n",
       "      <th>3</th>\n",
       "      <td>Afghanistan</td>\n",
       "      <td>1853</td>\n",
       "      <td>13.455833</td>\n",
       "      <td>2.112833</td>\n",
       "    </tr>\n",
       "    <tr>\n",
       "      <th>4</th>\n",
       "      <td>Afghanistan</td>\n",
       "      <td>1854</td>\n",
       "      <td>13.605750</td>\n",
       "      <td>2.213333</td>\n",
       "    </tr>\n",
       "  </tbody>\n",
       "</table>\n",
       "</div>"
      ],
      "text/plain": [
       "       Country  Year  AverageTemperature  AverageTemperatureUncertainty\n",
       "0  Afghanistan  1850           13.326083                       1.961917\n",
       "1  Afghanistan  1851           13.605667                       2.048500\n",
       "2  Afghanistan  1852           13.541167                       2.253833\n",
       "3  Afghanistan  1853           13.455833                       2.112833\n",
       "4  Afghanistan  1854           13.605750                       2.213333"
      ]
     },
     "execution_count": 55,
     "metadata": {},
     "output_type": "execute_result"
    }
   ],
   "source": [
    "countryTempAvg = countryTemp.groupby(['Country','Year']).mean().reset_index(drop=False)\n",
    "countryTempAvg.head()"
   ]
  },
  {
   "cell_type": "code",
   "execution_count": 56,
   "metadata": {
    "collapsed": false
   },
   "outputs": [
    {
     "data": {
      "text/html": [
       "<div>\n",
       "<table border=\"1\" class=\"dataframe\">\n",
       "  <thead>\n",
       "    <tr style=\"text-align: right;\">\n",
       "      <th></th>\n",
       "      <th>Year</th>\n",
       "      <th>AverageTemperature</th>\n",
       "    </tr>\n",
       "  </thead>\n",
       "  <tbody>\n",
       "    <tr>\n",
       "      <th>0</th>\n",
       "      <td>1855</td>\n",
       "      <td>0.025591</td>\n",
       "    </tr>\n",
       "    <tr>\n",
       "      <th>1</th>\n",
       "      <td>1856</td>\n",
       "      <td>-0.082501</td>\n",
       "    </tr>\n",
       "    <tr>\n",
       "      <th>2</th>\n",
       "      <td>1857</td>\n",
       "      <td>-0.005224</td>\n",
       "    </tr>\n",
       "    <tr>\n",
       "      <th>3</th>\n",
       "      <td>1858</td>\n",
       "      <td>-0.005565</td>\n",
       "    </tr>\n",
       "    <tr>\n",
       "      <th>4</th>\n",
       "      <td>1859</td>\n",
       "      <td>-0.091191</td>\n",
       "    </tr>\n",
       "    <tr>\n",
       "      <th>5</th>\n",
       "      <td>1860</td>\n",
       "      <td>0.014363</td>\n",
       "    </tr>\n",
       "    <tr>\n",
       "      <th>6</th>\n",
       "      <td>1861</td>\n",
       "      <td>0.089038</td>\n",
       "    </tr>\n",
       "    <tr>\n",
       "      <th>7</th>\n",
       "      <td>1862</td>\n",
       "      <td>0.009050</td>\n",
       "    </tr>\n",
       "    <tr>\n",
       "      <th>8</th>\n",
       "      <td>1863</td>\n",
       "      <td>0.003972</td>\n",
       "    </tr>\n",
       "    <tr>\n",
       "      <th>9</th>\n",
       "      <td>1864</td>\n",
       "      <td>0.045436</td>\n",
       "    </tr>\n",
       "  </tbody>\n",
       "</table>\n",
       "</div>"
      ],
      "text/plain": [
       "   Year  AverageTemperature\n",
       "0  1855            0.025591\n",
       "1  1856           -0.082501\n",
       "2  1857           -0.005224\n",
       "3  1858           -0.005565\n",
       "4  1859           -0.091191\n",
       "5  1860            0.014363\n",
       "6  1861            0.089038\n",
       "7  1862            0.009050\n",
       "8  1863            0.003972\n",
       "9  1864            0.045436"
      ]
     },
     "execution_count": 56,
     "metadata": {},
     "output_type": "execute_result"
    }
   ],
   "source": [
    "test = countryTempAvg[countryTempAvg['Country'] == 'United States']\n",
    "test2 = test[['Year']+['AverageTemperature']]\n",
    "test2 = test2.groupby('Year').mean()\n",
    "test2.head()\n",
    "\n",
    "# test2['PctChange'] = test2.groupby(level=0).pct_change(1)\n",
    "# test2.head(10)\n",
    "\n",
    "zoo = test2.pct_change(5)\n",
    "zoo = zoo.dropna().reset_index(drop=False)\n",
    "zoo.head(10)"
   ]
  },
  {
   "cell_type": "code",
   "execution_count": 57,
   "metadata": {
    "collapsed": false
   },
   "outputs": [
    {
     "data": {
      "text/plain": [
       "[<matplotlib.lines.Line2D at 0x11abbe0f0>]"
      ]
     },
     "execution_count": 57,
     "metadata": {},
     "output_type": "execute_result"
    },
    {
     "data": {
      "image/png": "[encoded data removed]",
      "text/plain": [
       "<matplotlib.figure.Figure at 0x11aa56358>"
      ]
     },
     "metadata": {},
     "output_type": "display_data"
    }
   ],
   "source": [
    "plt.plot(zoo['Year'],zoo['AverageTemperature'])"
   ]
  },
  {
   "cell_type": "code",
   "execution_count": null,
   "metadata": {
    "collapsed": true
   },
   "outputs": [],
   "source": []
  }
 ],
 "metadata": {
  "anaconda-cloud": {},
  "kernelspec": {
   "display_name": "Python [conda root]",
   "language": "python",
   "name": "conda-root-py"
  },
  "language_info": {
   "codemirror_mode": {
    "name": "ipython",
    "version": 3
   },
   "file_extension": ".py",
   "mimetype": "text/x-python",
   "name": "python",
   "nbconvert_exporter": "python",
   "pygments_lexer": "ipython3",
   "version": "3.5.2"
  }
 },
 "nbformat": 4,
 "nbformat_minor": 1
}
