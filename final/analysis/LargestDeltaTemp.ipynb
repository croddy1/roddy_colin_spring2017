{
 "cells": [
  {
   "cell_type": "markdown",
   "metadata": {},
   "source": [
    "# Analysis 1"
   ]
  },
  {
   "cell_type": "code",
   "execution_count": 1,
   "metadata": {
    "collapsed": true
   },
   "outputs": [],
   "source": [
    "import pandas as pd\n",
    "import numpy as np\n",
    "from pandas import DataFrame\n",
    "from datetime import datetime,date,timedelta\n",
    "import seaborn as sns\n",
    "import os, warnings\n",
    "%matplotlib inline\n",
    "warnings.filterwarnings('ignore')"
   ]
  },
  {
   "cell_type": "code",
   "execution_count": 2,
   "metadata": {
    "collapsed": true
   },
   "outputs": [],
   "source": [
    "cityTemp = pd.read_csv('../data/GlobalLandTemperatures/GlobalLandTemperaturesByCity.csv')\n",
    "countryTemp = pd.read_csv('../data/GlobalLandTemperatures/GlobalLandTemperaturesByCountry.csv')"
   ]
  },
  {
   "cell_type": "code",
   "execution_count": 3,
   "metadata": {
    "collapsed": false
   },
   "outputs": [
    {
     "data": {
      "text/html": [
       "<div>\n",
       "<table border=\"1\" class=\"dataframe\">\n",
       "  <thead>\n",
       "    <tr style=\"text-align: right;\">\n",
       "      <th></th>\n",
       "      <th>dt</th>\n",
       "      <th>AverageTemperature</th>\n",
       "      <th>AverageTemperatureUncertainty</th>\n",
       "      <th>City</th>\n",
       "      <th>Country</th>\n",
       "      <th>Latitude</th>\n",
       "      <th>Longitude</th>\n",
       "    </tr>\n",
       "  </thead>\n",
       "  <tbody>\n",
       "    <tr>\n",
       "      <th>0</th>\n",
       "      <td>1743-11-01</td>\n",
       "      <td>6.068</td>\n",
       "      <td>1.737</td>\n",
       "      <td>Århus</td>\n",
       "      <td>Denmark</td>\n",
       "      <td>57.05N</td>\n",
       "      <td>10.33E</td>\n",
       "    </tr>\n",
       "    <tr>\n",
       "      <th>1</th>\n",
       "      <td>1743-12-01</td>\n",
       "      <td>NaN</td>\n",
       "      <td>NaN</td>\n",
       "      <td>Århus</td>\n",
       "      <td>Denmark</td>\n",
       "      <td>57.05N</td>\n",
       "      <td>10.33E</td>\n",
       "    </tr>\n",
       "    <tr>\n",
       "      <th>2</th>\n",
       "      <td>1744-01-01</td>\n",
       "      <td>NaN</td>\n",
       "      <td>NaN</td>\n",
       "      <td>Århus</td>\n",
       "      <td>Denmark</td>\n",
       "      <td>57.05N</td>\n",
       "      <td>10.33E</td>\n",
       "    </tr>\n",
       "    <tr>\n",
       "      <th>3</th>\n",
       "      <td>1744-02-01</td>\n",
       "      <td>NaN</td>\n",
       "      <td>NaN</td>\n",
       "      <td>Århus</td>\n",
       "      <td>Denmark</td>\n",
       "      <td>57.05N</td>\n",
       "      <td>10.33E</td>\n",
       "    </tr>\n",
       "    <tr>\n",
       "      <th>4</th>\n",
       "      <td>1744-03-01</td>\n",
       "      <td>NaN</td>\n",
       "      <td>NaN</td>\n",
       "      <td>Århus</td>\n",
       "      <td>Denmark</td>\n",
       "      <td>57.05N</td>\n",
       "      <td>10.33E</td>\n",
       "    </tr>\n",
       "  </tbody>\n",
       "</table>\n",
       "</div>"
      ],
      "text/plain": [
       "           dt  AverageTemperature  AverageTemperatureUncertainty   City  \\\n",
       "0  1743-11-01               6.068                          1.737  Århus   \n",
       "1  1743-12-01                 NaN                            NaN  Århus   \n",
       "2  1744-01-01                 NaN                            NaN  Århus   \n",
       "3  1744-02-01                 NaN                            NaN  Århus   \n",
       "4  1744-03-01                 NaN                            NaN  Århus   \n",
       "\n",
       "   Country Latitude Longitude  \n",
       "0  Denmark   57.05N    10.33E  \n",
       "1  Denmark   57.05N    10.33E  \n",
       "2  Denmark   57.05N    10.33E  \n",
       "3  Denmark   57.05N    10.33E  \n",
       "4  Denmark   57.05N    10.33E  "
      ]
     },
     "execution_count": 3,
     "metadata": {},
     "output_type": "execute_result"
    }
   ],
   "source": [
    "cityTemp.head()"
   ]
  },
  {
   "cell_type": "code",
   "execution_count": 16,
   "metadata": {
    "collapsed": false
   },
   "outputs": [
    {
     "data": {
      "text/html": [
       "<div>\n",
       "<table border=\"1\" class=\"dataframe\">\n",
       "  <thead>\n",
       "    <tr style=\"text-align: right;\">\n",
       "      <th></th>\n",
       "      <th>dt</th>\n",
       "      <th>AverageTemperature</th>\n",
       "      <th>AverageTemperatureUncertainty</th>\n",
       "      <th>City</th>\n",
       "      <th>Country</th>\n",
       "      <th>Latitude</th>\n",
       "      <th>Longitude</th>\n",
       "      <th>NS</th>\n",
       "      <th>Year</th>\n",
       "    </tr>\n",
       "  </thead>\n",
       "  <tbody>\n",
       "    <tr>\n",
       "      <th>0</th>\n",
       "      <td>1743-11-01</td>\n",
       "      <td>6.068</td>\n",
       "      <td>1.737</td>\n",
       "      <td>Århus</td>\n",
       "      <td>Denmark</td>\n",
       "      <td>57.05N</td>\n",
       "      <td>10.33E</td>\n",
       "      <td>N</td>\n",
       "      <td>1743</td>\n",
       "    </tr>\n",
       "    <tr>\n",
       "      <th>1</th>\n",
       "      <td>1743-12-01</td>\n",
       "      <td>NaN</td>\n",
       "      <td>NaN</td>\n",
       "      <td>Århus</td>\n",
       "      <td>Denmark</td>\n",
       "      <td>57.05N</td>\n",
       "      <td>10.33E</td>\n",
       "      <td>N</td>\n",
       "      <td>1743</td>\n",
       "    </tr>\n",
       "    <tr>\n",
       "      <th>2</th>\n",
       "      <td>1744-01-01</td>\n",
       "      <td>NaN</td>\n",
       "      <td>NaN</td>\n",
       "      <td>Århus</td>\n",
       "      <td>Denmark</td>\n",
       "      <td>57.05N</td>\n",
       "      <td>10.33E</td>\n",
       "      <td>N</td>\n",
       "      <td>1744</td>\n",
       "    </tr>\n",
       "    <tr>\n",
       "      <th>3</th>\n",
       "      <td>1744-02-01</td>\n",
       "      <td>NaN</td>\n",
       "      <td>NaN</td>\n",
       "      <td>Århus</td>\n",
       "      <td>Denmark</td>\n",
       "      <td>57.05N</td>\n",
       "      <td>10.33E</td>\n",
       "      <td>N</td>\n",
       "      <td>1744</td>\n",
       "    </tr>\n",
       "    <tr>\n",
       "      <th>4</th>\n",
       "      <td>1744-03-01</td>\n",
       "      <td>NaN</td>\n",
       "      <td>NaN</td>\n",
       "      <td>Århus</td>\n",
       "      <td>Denmark</td>\n",
       "      <td>57.05N</td>\n",
       "      <td>10.33E</td>\n",
       "      <td>N</td>\n",
       "      <td>1744</td>\n",
       "    </tr>\n",
       "  </tbody>\n",
       "</table>\n",
       "</div>"
      ],
      "text/plain": [
       "           dt  AverageTemperature  AverageTemperatureUncertainty   City  \\\n",
       "0  1743-11-01               6.068                          1.737  Århus   \n",
       "1  1743-12-01                 NaN                            NaN  Århus   \n",
       "2  1744-01-01                 NaN                            NaN  Århus   \n",
       "3  1744-02-01                 NaN                            NaN  Århus   \n",
       "4  1744-03-01                 NaN                            NaN  Århus   \n",
       "\n",
       "   Country Latitude Longitude NS  Year  \n",
       "0  Denmark   57.05N    10.33E  N  1743  \n",
       "1  Denmark   57.05N    10.33E  N  1743  \n",
       "2  Denmark   57.05N    10.33E  N  1744  \n",
       "3  Denmark   57.05N    10.33E  N  1744  \n",
       "4  Denmark   57.05N    10.33E  N  1744  "
      ]
     },
     "execution_count": 16,
     "metadata": {},
     "output_type": "execute_result"
    }
   ],
   "source": []
  },
  {
   "cell_type": "code",
   "execution_count": 24,
   "metadata": {
    "collapsed": false
   },
   "outputs": [
    {
     "data": {
      "text/html": [
       "<div>\n",
       "<table border=\"1\" class=\"dataframe\">\n",
       "  <thead>\n",
       "    <tr style=\"text-align: right;\">\n",
       "      <th></th>\n",
       "      <th>dt</th>\n",
       "      <th>AverageTemperature</th>\n",
       "      <th>AverageTemperatureUncertainty</th>\n",
       "      <th>Country</th>\n",
       "    </tr>\n",
       "  </thead>\n",
       "  <tbody>\n",
       "    <tr>\n",
       "      <th>0</th>\n",
       "      <td>1743-11-01</td>\n",
       "      <td>4.384</td>\n",
       "      <td>2.294</td>\n",
       "      <td>Åland</td>\n",
       "    </tr>\n",
       "    <tr>\n",
       "      <th>1</th>\n",
       "      <td>1743-12-01</td>\n",
       "      <td>NaN</td>\n",
       "      <td>NaN</td>\n",
       "      <td>Åland</td>\n",
       "    </tr>\n",
       "    <tr>\n",
       "      <th>2</th>\n",
       "      <td>1744-01-01</td>\n",
       "      <td>NaN</td>\n",
       "      <td>NaN</td>\n",
       "      <td>Åland</td>\n",
       "    </tr>\n",
       "    <tr>\n",
       "      <th>3</th>\n",
       "      <td>1744-02-01</td>\n",
       "      <td>NaN</td>\n",
       "      <td>NaN</td>\n",
       "      <td>Åland</td>\n",
       "    </tr>\n",
       "    <tr>\n",
       "      <th>4</th>\n",
       "      <td>1744-03-01</td>\n",
       "      <td>NaN</td>\n",
       "      <td>NaN</td>\n",
       "      <td>Åland</td>\n",
       "    </tr>\n",
       "  </tbody>\n",
       "</table>\n",
       "</div>"
      ],
      "text/plain": [
       "          dt  AverageTemperature  AverageTemperatureUncertainty Country\n",
       "0 1743-11-01               4.384                          2.294   Åland\n",
       "1 1743-12-01                 NaN                            NaN   Åland\n",
       "2 1744-01-01                 NaN                            NaN   Åland\n",
       "3 1744-02-01                 NaN                            NaN   Åland\n",
       "4 1744-03-01                 NaN                            NaN   Åland"
      ]
     },
     "execution_count": 24,
     "metadata": {},
     "output_type": "execute_result"
    }
   ],
   "source": [
    "countryTemp.head()"
   ]
  },
  {
   "cell_type": "code",
   "execution_count": 56,
   "metadata": {
    "collapsed": false
   },
   "outputs": [],
   "source": [
    "countryTemp['dt'] = pd.to_datetime(countryTemp['dt'])\n",
    "countryTemp['Year'] = countryTemp['dt'].apply(lambda x : x.strftime('%Y'))\n",
    "countryTemp = countryTemp.dropna()"
   ]
  },
  {
   "cell_type": "code",
   "execution_count": 57,
   "metadata": {
    "collapsed": false
   },
   "outputs": [
    {
     "data": {
      "text/html": [
       "<div>\n",
       "<table border=\"1\" class=\"dataframe\">\n",
       "  <thead>\n",
       "    <tr style=\"text-align: right;\">\n",
       "      <th></th>\n",
       "      <th>dt</th>\n",
       "      <th>AverageTemperature</th>\n",
       "      <th>AverageTemperatureUncertainty</th>\n",
       "      <th>Country</th>\n",
       "      <th>Year</th>\n",
       "    </tr>\n",
       "  </thead>\n",
       "  <tbody>\n",
       "    <tr>\n",
       "      <th>0</th>\n",
       "      <td>1743-11-01</td>\n",
       "      <td>4.384</td>\n",
       "      <td>2.294</td>\n",
       "      <td>Åland</td>\n",
       "      <td>1743</td>\n",
       "    </tr>\n",
       "    <tr>\n",
       "      <th>5</th>\n",
       "      <td>1744-04-01</td>\n",
       "      <td>1.530</td>\n",
       "      <td>4.680</td>\n",
       "      <td>Åland</td>\n",
       "      <td>1744</td>\n",
       "    </tr>\n",
       "    <tr>\n",
       "      <th>6</th>\n",
       "      <td>1744-05-01</td>\n",
       "      <td>6.702</td>\n",
       "      <td>1.789</td>\n",
       "      <td>Åland</td>\n",
       "      <td>1744</td>\n",
       "    </tr>\n",
       "    <tr>\n",
       "      <th>7</th>\n",
       "      <td>1744-06-01</td>\n",
       "      <td>11.609</td>\n",
       "      <td>1.577</td>\n",
       "      <td>Åland</td>\n",
       "      <td>1744</td>\n",
       "    </tr>\n",
       "    <tr>\n",
       "      <th>8</th>\n",
       "      <td>1744-07-01</td>\n",
       "      <td>15.342</td>\n",
       "      <td>1.410</td>\n",
       "      <td>Åland</td>\n",
       "      <td>1744</td>\n",
       "    </tr>\n",
       "  </tbody>\n",
       "</table>\n",
       "</div>"
      ],
      "text/plain": [
       "          dt  AverageTemperature  AverageTemperatureUncertainty Country  Year\n",
       "0 1743-11-01               4.384                          2.294   Åland  1743\n",
       "5 1744-04-01               1.530                          4.680   Åland  1744\n",
       "6 1744-05-01               6.702                          1.789   Åland  1744\n",
       "7 1744-06-01              11.609                          1.577   Åland  1744\n",
       "8 1744-07-01              15.342                          1.410   Åland  1744"
      ]
     },
     "execution_count": 57,
     "metadata": {},
     "output_type": "execute_result"
    }
   ],
   "source": [
    "countryTemp.head()"
   ]
  },
  {
   "cell_type": "code",
   "execution_count": 59,
   "metadata": {
    "collapsed": false
   },
   "outputs": [
    {
     "data": {
      "text/html": [
       "<div>\n",
       "<table border=\"1\" class=\"dataframe\">\n",
       "  <thead>\n",
       "    <tr style=\"text-align: right;\">\n",
       "      <th></th>\n",
       "      <th>Country</th>\n",
       "      <th>Year</th>\n",
       "      <th>AverageTemperature</th>\n",
       "      <th>AverageTemperatureUncertainty</th>\n",
       "      <th>Uncertainty</th>\n",
       "    </tr>\n",
       "  </thead>\n",
       "  <tbody>\n",
       "    <tr>\n",
       "      <th>0</th>\n",
       "      <td>Afghanistan</td>\n",
       "      <td>1838</td>\n",
       "      <td>18.379571</td>\n",
       "      <td>2.756000</td>\n",
       "      <td>0.149949</td>\n",
       "    </tr>\n",
       "    <tr>\n",
       "      <th>1</th>\n",
       "      <td>Afghanistan</td>\n",
       "      <td>1840</td>\n",
       "      <td>13.413455</td>\n",
       "      <td>2.502000</td>\n",
       "      <td>0.186529</td>\n",
       "    </tr>\n",
       "    <tr>\n",
       "      <th>2</th>\n",
       "      <td>Afghanistan</td>\n",
       "      <td>1841</td>\n",
       "      <td>13.997600</td>\n",
       "      <td>2.452100</td>\n",
       "      <td>0.175180</td>\n",
       "    </tr>\n",
       "    <tr>\n",
       "      <th>3</th>\n",
       "      <td>Afghanistan</td>\n",
       "      <td>1842</td>\n",
       "      <td>15.154667</td>\n",
       "      <td>2.381222</td>\n",
       "      <td>0.157128</td>\n",
       "    </tr>\n",
       "    <tr>\n",
       "      <th>4</th>\n",
       "      <td>Afghanistan</td>\n",
       "      <td>1843</td>\n",
       "      <td>13.756250</td>\n",
       "      <td>2.353083</td>\n",
       "      <td>0.171056</td>\n",
       "    </tr>\n",
       "    <tr>\n",
       "      <th>5</th>\n",
       "      <td>Afghanistan</td>\n",
       "      <td>1844</td>\n",
       "      <td>13.148750</td>\n",
       "      <td>2.235417</td>\n",
       "      <td>0.170010</td>\n",
       "    </tr>\n",
       "    <tr>\n",
       "      <th>6</th>\n",
       "      <td>Afghanistan</td>\n",
       "      <td>1845</td>\n",
       "      <td>13.305833</td>\n",
       "      <td>2.370917</td>\n",
       "      <td>0.178186</td>\n",
       "    </tr>\n",
       "    <tr>\n",
       "      <th>7</th>\n",
       "      <td>Afghanistan</td>\n",
       "      <td>1846</td>\n",
       "      <td>14.030833</td>\n",
       "      <td>2.442250</td>\n",
       "      <td>0.174063</td>\n",
       "    </tr>\n",
       "    <tr>\n",
       "      <th>8</th>\n",
       "      <td>Afghanistan</td>\n",
       "      <td>1847</td>\n",
       "      <td>13.475583</td>\n",
       "      <td>2.457833</td>\n",
       "      <td>0.182392</td>\n",
       "    </tr>\n",
       "    <tr>\n",
       "      <th>9</th>\n",
       "      <td>Afghanistan</td>\n",
       "      <td>1848</td>\n",
       "      <td>13.136250</td>\n",
       "      <td>2.029583</td>\n",
       "      <td>0.154502</td>\n",
       "    </tr>\n",
       "    <tr>\n",
       "      <th>10</th>\n",
       "      <td>Afghanistan</td>\n",
       "      <td>1849</td>\n",
       "      <td>13.444417</td>\n",
       "      <td>1.995000</td>\n",
       "      <td>0.148389</td>\n",
       "    </tr>\n",
       "    <tr>\n",
       "      <th>11</th>\n",
       "      <td>Afghanistan</td>\n",
       "      <td>1850</td>\n",
       "      <td>13.326083</td>\n",
       "      <td>1.961917</td>\n",
       "      <td>0.147224</td>\n",
       "    </tr>\n",
       "    <tr>\n",
       "      <th>12</th>\n",
       "      <td>Afghanistan</td>\n",
       "      <td>1851</td>\n",
       "      <td>13.605667</td>\n",
       "      <td>2.048500</td>\n",
       "      <td>0.150562</td>\n",
       "    </tr>\n",
       "    <tr>\n",
       "      <th>13</th>\n",
       "      <td>Afghanistan</td>\n",
       "      <td>1852</td>\n",
       "      <td>13.541167</td>\n",
       "      <td>2.253833</td>\n",
       "      <td>0.166443</td>\n",
       "    </tr>\n",
       "    <tr>\n",
       "      <th>14</th>\n",
       "      <td>Afghanistan</td>\n",
       "      <td>1853</td>\n",
       "      <td>13.455833</td>\n",
       "      <td>2.112833</td>\n",
       "      <td>0.157020</td>\n",
       "    </tr>\n",
       "    <tr>\n",
       "      <th>15</th>\n",
       "      <td>Afghanistan</td>\n",
       "      <td>1854</td>\n",
       "      <td>13.605750</td>\n",
       "      <td>2.213333</td>\n",
       "      <td>0.162676</td>\n",
       "    </tr>\n",
       "    <tr>\n",
       "      <th>16</th>\n",
       "      <td>Afghanistan</td>\n",
       "      <td>1855</td>\n",
       "      <td>13.923833</td>\n",
       "      <td>2.334917</td>\n",
       "      <td>0.167692</td>\n",
       "    </tr>\n",
       "    <tr>\n",
       "      <th>17</th>\n",
       "      <td>Afghanistan</td>\n",
       "      <td>1856</td>\n",
       "      <td>13.464667</td>\n",
       "      <td>2.243167</td>\n",
       "      <td>0.166597</td>\n",
       "    </tr>\n",
       "    <tr>\n",
       "      <th>18</th>\n",
       "      <td>Afghanistan</td>\n",
       "      <td>1857</td>\n",
       "      <td>13.074417</td>\n",
       "      <td>2.271667</td>\n",
       "      <td>0.173749</td>\n",
       "    </tr>\n",
       "    <tr>\n",
       "      <th>19</th>\n",
       "      <td>Afghanistan</td>\n",
       "      <td>1858</td>\n",
       "      <td>13.664167</td>\n",
       "      <td>2.342583</td>\n",
       "      <td>0.171440</td>\n",
       "    </tr>\n",
       "  </tbody>\n",
       "</table>\n",
       "</div>"
      ],
      "text/plain": [
       "        Country  Year  AverageTemperature  AverageTemperatureUncertainty  \\\n",
       "0   Afghanistan  1838           18.379571                       2.756000   \n",
       "1   Afghanistan  1840           13.413455                       2.502000   \n",
       "2   Afghanistan  1841           13.997600                       2.452100   \n",
       "3   Afghanistan  1842           15.154667                       2.381222   \n",
       "4   Afghanistan  1843           13.756250                       2.353083   \n",
       "5   Afghanistan  1844           13.148750                       2.235417   \n",
       "6   Afghanistan  1845           13.305833                       2.370917   \n",
       "7   Afghanistan  1846           14.030833                       2.442250   \n",
       "8   Afghanistan  1847           13.475583                       2.457833   \n",
       "9   Afghanistan  1848           13.136250                       2.029583   \n",
       "10  Afghanistan  1849           13.444417                       1.995000   \n",
       "11  Afghanistan  1850           13.326083                       1.961917   \n",
       "12  Afghanistan  1851           13.605667                       2.048500   \n",
       "13  Afghanistan  1852           13.541167                       2.253833   \n",
       "14  Afghanistan  1853           13.455833                       2.112833   \n",
       "15  Afghanistan  1854           13.605750                       2.213333   \n",
       "16  Afghanistan  1855           13.923833                       2.334917   \n",
       "17  Afghanistan  1856           13.464667                       2.243167   \n",
       "18  Afghanistan  1857           13.074417                       2.271667   \n",
       "19  Afghanistan  1858           13.664167                       2.342583   \n",
       "\n",
       "    Uncertainty  \n",
       "0      0.149949  \n",
       "1      0.186529  \n",
       "2      0.175180  \n",
       "3      0.157128  \n",
       "4      0.171056  \n",
       "5      0.170010  \n",
       "6      0.178186  \n",
       "7      0.174063  \n",
       "8      0.182392  \n",
       "9      0.154502  \n",
       "10     0.148389  \n",
       "11     0.147224  \n",
       "12     0.150562  \n",
       "13     0.166443  \n",
       "14     0.157020  \n",
       "15     0.162676  \n",
       "16     0.167692  \n",
       "17     0.166597  \n",
       "18     0.173749  \n",
       "19     0.171440  "
      ]
     },
     "execution_count": 59,
     "metadata": {},
     "output_type": "execute_result"
    }
   ],
   "source": [
    "yearTemp = countryTemp.groupby(['Country','Year']).mean().reset_index(drop=False)\n",
    "yearTemp['Uncertainty'] = yearTemp['AverageTemperatureUncertainty']/yearTemp['AverageTemperature']\n",
    "yearTemp.head(20)"
   ]
  },
  {
   "cell_type": "code",
   "execution_count": 108,
   "metadata": {
    "collapsed": false
   },
   "outputs": [
    {
     "data": {
      "text/html": [
       "<div>\n",
       "<table border=\"1\" class=\"dataframe\">\n",
       "  <thead>\n",
       "    <tr style=\"text-align: right;\">\n",
       "      <th></th>\n",
       "      <th>Year</th>\n",
       "      <th>AverageTemperature</th>\n",
       "      <th>AverageTemperatureUncertainty</th>\n",
       "      <th>Uncertainty</th>\n",
       "    </tr>\n",
       "  </thead>\n",
       "  <tbody>\n",
       "    <tr>\n",
       "      <th>0</th>\n",
       "      <td>1881</td>\n",
       "      <td>17.914589</td>\n",
       "      <td>0.974823</td>\n",
       "      <td>0.062910</td>\n",
       "    </tr>\n",
       "    <tr>\n",
       "      <th>1</th>\n",
       "      <td>1882</td>\n",
       "      <td>17.819800</td>\n",
       "      <td>0.878494</td>\n",
       "      <td>0.132360</td>\n",
       "    </tr>\n",
       "    <tr>\n",
       "      <th>2</th>\n",
       "      <td>1883</td>\n",
       "      <td>18.011056</td>\n",
       "      <td>0.924425</td>\n",
       "      <td>0.058477</td>\n",
       "    </tr>\n",
       "    <tr>\n",
       "      <th>3</th>\n",
       "      <td>1884</td>\n",
       "      <td>17.870114</td>\n",
       "      <td>0.967953</td>\n",
       "      <td>0.068201</td>\n",
       "    </tr>\n",
       "    <tr>\n",
       "      <th>4</th>\n",
       "      <td>1885</td>\n",
       "      <td>17.940837</td>\n",
       "      <td>0.925745</td>\n",
       "      <td>0.064454</td>\n",
       "    </tr>\n",
       "    <tr>\n",
       "      <th>5</th>\n",
       "      <td>1886</td>\n",
       "      <td>17.939846</td>\n",
       "      <td>0.933012</td>\n",
       "      <td>0.046733</td>\n",
       "    </tr>\n",
       "    <tr>\n",
       "      <th>6</th>\n",
       "      <td>1887</td>\n",
       "      <td>17.817754</td>\n",
       "      <td>0.899737</td>\n",
       "      <td>0.033164</td>\n",
       "    </tr>\n",
       "    <tr>\n",
       "      <th>7</th>\n",
       "      <td>1888</td>\n",
       "      <td>17.725895</td>\n",
       "      <td>0.906426</td>\n",
       "      <td>0.054554</td>\n",
       "    </tr>\n",
       "    <tr>\n",
       "      <th>8</th>\n",
       "      <td>1889</td>\n",
       "      <td>18.175630</td>\n",
       "      <td>0.889237</td>\n",
       "      <td>0.057622</td>\n",
       "    </tr>\n",
       "    <tr>\n",
       "      <th>9</th>\n",
       "      <td>1890</td>\n",
       "      <td>18.072447</td>\n",
       "      <td>0.944061</td>\n",
       "      <td>0.059728</td>\n",
       "    </tr>\n",
       "  </tbody>\n",
       "</table>\n",
       "</div>"
      ],
      "text/plain": [
       "   Year  AverageTemperature  AverageTemperatureUncertainty  Uncertainty\n",
       "0  1881           17.914589                       0.974823     0.062910\n",
       "1  1882           17.819800                       0.878494     0.132360\n",
       "2  1883           18.011056                       0.924425     0.058477\n",
       "3  1884           17.870114                       0.967953     0.068201\n",
       "4  1885           17.940837                       0.925745     0.064454\n",
       "5  1886           17.939846                       0.933012     0.046733\n",
       "6  1887           17.817754                       0.899737     0.033164\n",
       "7  1888           17.725895                       0.906426     0.054554\n",
       "8  1889           18.175630                       0.889237     0.057622\n",
       "9  1890           18.072447                       0.944061     0.059728"
      ]
     },
     "execution_count": 108,
     "metadata": {},
     "output_type": "execute_result"
    }
   ],
   "source": [
    "test = yearTemp.groupby('Year').mean().reset_index(drop=False)\n",
    "test = test[test['Uncertainty'] <= .2]\n",
    "test.head(10)"
   ]
  },
  {
   "cell_type": "code",
   "execution_count": 83,
   "metadata": {
    "collapsed": false
   },
   "outputs": [
    {
     "data": {
      "text/plain": [
       "count     45915\n",
       "unique      267\n",
       "top        1999\n",
       "freq        242\n",
       "Name: Year, dtype: object"
      ]
     },
     "execution_count": 83,
     "metadata": {},
     "output_type": "execute_result"
    }
   ],
   "source": [
    "yearTemp['Year'].describe()"
   ]
  },
  {
   "cell_type": "code",
   "execution_count": 111,
   "metadata": {
    "collapsed": false
   },
   "outputs": [],
   "source": [
    "yearTemp['Year'] = yearTemp['Year'].apply(lambda x : int(x))"
   ]
  },
  {
   "cell_type": "code",
   "execution_count": 105,
   "metadata": {
    "collapsed": false
   },
   "outputs": [
    {
     "data": {
      "text/html": [
       "<div>\n",
       "<table border=\"1\" class=\"dataframe\">\n",
       "  <thead>\n",
       "    <tr style=\"text-align: right;\">\n",
       "      <th></th>\n",
       "      <th>Country</th>\n",
       "      <th>OldTemp</th>\n",
       "      <th>NewTemp</th>\n",
       "      <th>DiffTemp</th>\n",
       "    </tr>\n",
       "  </thead>\n",
       "  <tbody>\n",
       "    <tr>\n",
       "      <th>0</th>\n",
       "      <td>Canada</td>\n",
       "      <td>-5.995517</td>\n",
       "      <td>-2.879517</td>\n",
       "      <td>3.116000</td>\n",
       "    </tr>\n",
       "    <tr>\n",
       "      <th>1</th>\n",
       "      <td>Greenland</td>\n",
       "      <td>-19.553150</td>\n",
       "      <td>-16.443817</td>\n",
       "      <td>3.109333</td>\n",
       "    </tr>\n",
       "    <tr>\n",
       "      <th>2</th>\n",
       "      <td>Denmark</td>\n",
       "      <td>-19.005567</td>\n",
       "      <td>-15.939700</td>\n",
       "      <td>3.065867</td>\n",
       "    </tr>\n",
       "    <tr>\n",
       "      <th>3</th>\n",
       "      <td>Svalbard And Jan Mayen</td>\n",
       "      <td>-7.965283</td>\n",
       "      <td>-5.203417</td>\n",
       "      <td>2.761867</td>\n",
       "    </tr>\n",
       "    <tr>\n",
       "      <th>4</th>\n",
       "      <td>Saint Pierre And Miquelon</td>\n",
       "      <td>3.553067</td>\n",
       "      <td>6.250939</td>\n",
       "      <td>2.697872</td>\n",
       "    </tr>\n",
       "  </tbody>\n",
       "</table>\n",
       "</div>"
      ],
      "text/plain": [
       "                     Country    OldTemp    NewTemp  DiffTemp\n",
       "0                     Canada  -5.995517  -2.879517  3.116000\n",
       "1                  Greenland -19.553150 -16.443817  3.109333\n",
       "2                    Denmark -19.005567 -15.939700  3.065867\n",
       "3     Svalbard And Jan Mayen  -7.965283  -5.203417  2.761867\n",
       "4  Saint Pierre And Miquelon   3.553067   6.250939  2.697872"
      ]
     },
     "execution_count": 105,
     "metadata": {},
     "output_type": "execute_result"
    }
   ],
   "source": [
    "yearTemp = yearTemp[yearTemp['Year'] > 1880]\n",
    "countries = yearTemp['Country'].unique()\n",
    "listHolder = []\n",
    "for each in countries:\n",
    "    holder = yearTemp[yearTemp['Country'] == each]\n",
    "    holder.sort_values('Year')\n",
    "    oldTemp = holder['AverageTemperature'].head(5).mean()\n",
    "    newTemp = holder['AverageTemperature'].tail(5).mean()\n",
    "    diffTemp = newTemp - oldTemp\n",
    "    listHolder.append((each,oldTemp,newTemp,diffTemp))\n",
    "    \n",
    "diffs = DataFrame(listHolder, columns=('Country',\n",
    "                                       'OldTemp', \n",
    "                                       'NewTemp',\n",
    "                                       'DiffTemp')).sort_values(by='DiffTemp', ascending=False).reset_index(drop=True)\n",
    "\n",
    "diffs.head()"
   ]
  },
  {
   "cell_type": "code",
   "execution_count": null,
   "metadata": {
    "collapsed": true
   },
   "outputs": [],
   "source": []
  },
  {
   "cell_type": "code",
   "execution_count": 69,
   "metadata": {
    "collapsed": false
   },
   "outputs": [
    {
     "data": {
      "text/html": [
       "<div>\n",
       "<table border=\"1\" class=\"dataframe\">\n",
       "  <thead>\n",
       "    <tr style=\"text-align: right;\">\n",
       "      <th></th>\n",
       "      <th>Country</th>\n",
       "      <th>OldTemp</th>\n",
       "      <th>NewTemp</th>\n",
       "      <th>DiffTemp</th>\n",
       "    </tr>\n",
       "  </thead>\n",
       "  <tbody>\n",
       "    <tr>\n",
       "      <th>237</th>\n",
       "      <td>Cuba</td>\n",
       "      <td>25.470650</td>\n",
       "      <td>26.022422</td>\n",
       "      <td>0.551772</td>\n",
       "    </tr>\n",
       "    <tr>\n",
       "      <th>238</th>\n",
       "      <td>Cayman Islands</td>\n",
       "      <td>26.784183</td>\n",
       "      <td>27.329761</td>\n",
       "      <td>0.545578</td>\n",
       "    </tr>\n",
       "    <tr>\n",
       "      <th>239</th>\n",
       "      <td>Jamaica</td>\n",
       "      <td>26.285686</td>\n",
       "      <td>26.806483</td>\n",
       "      <td>0.520797</td>\n",
       "    </tr>\n",
       "    <tr>\n",
       "      <th>240</th>\n",
       "      <td>South Georgia And The South Sandwich Isla</td>\n",
       "      <td>1.977300</td>\n",
       "      <td>2.296458</td>\n",
       "      <td>0.319158</td>\n",
       "    </tr>\n",
       "    <tr>\n",
       "      <th>241</th>\n",
       "      <td>Armenia</td>\n",
       "      <td>10.904648</td>\n",
       "      <td>10.436417</td>\n",
       "      <td>-0.468232</td>\n",
       "    </tr>\n",
       "  </tbody>\n",
       "</table>\n",
       "</div>"
      ],
      "text/plain": [
       "                                       Country    OldTemp    NewTemp  DiffTemp\n",
       "237                                       Cuba  25.470650  26.022422  0.551772\n",
       "238                             Cayman Islands  26.784183  27.329761  0.545578\n",
       "239                                    Jamaica  26.285686  26.806483  0.520797\n",
       "240  South Georgia And The South Sandwich Isla   1.977300   2.296458  0.319158\n",
       "241                                    Armenia  10.904648  10.436417 -0.468232"
      ]
     },
     "execution_count": 69,
     "metadata": {},
     "output_type": "execute_result"
    }
   ],
   "source": [
    "diffs.tail()"
   ]
  },
  {
   "cell_type": "code",
   "execution_count": 113,
   "metadata": {
    "collapsed": false
   },
   "outputs": [
    {
     "data": {
      "text/plain": [
       "<matplotlib.axes._subplots.AxesSubplot at 0x11b5a0470>"
      ]
     },
     "execution_count": 113,
     "metadata": {},
     "output_type": "execute_result"
    },
    {
     "data": {
      "image/png": "[encoded data removed]",
      "text/plain": [
       "<matplotlib.figure.Figure at 0x1240aef98>"
      ]
     },
     "metadata": {},
     "output_type": "display_data"
    }
   ],
   "source": [
    "sns.barplot(diffs['Country'],diffs['DiffTemp'])"
   ]
  },
  {
   "cell_type": "code",
   "execution_count": 114,
   "metadata": {
    "collapsed": false
   },
   "outputs": [
    {
     "name": "stdout",
     "output_type": "stream",
     "text": [
      "19\n"
     ]
    }
   ],
   "source": [
    "print(len(diffs[diffs['DiffTemp'] > 2]))"
   ]
  },
  {
   "cell_type": "code",
   "execution_count": 112,
   "metadata": {
    "collapsed": false
   },
   "outputs": [
    {
     "data": {
      "text/plain": [
       "<matplotlib.axes._subplots.AxesSubplot at 0x11b54a4e0>"
      ]
     },
     "execution_count": 112,
     "metadata": {},
     "output_type": "execute_result"
    },
    {
     "data": {
      "image/png": "[encoded data removed]",
      "text/plain": [
       "<matplotlib.figure.Figure at 0x123ee7a58>"
      ]
     },
     "metadata": {},
     "output_type": "display_data"
    }
   ],
   "source": [
    "sns.color_palette(\"RdBu_r\", 7)\n",
    "sns.barplot(diffs['Country'][0:10],diffs['DiffTemp'][0:10])\n"
   ]
  },
  {
   "cell_type": "code",
   "execution_count": 51,
   "metadata": {
    "collapsed": true
   },
   "outputs": [
    {
     "name": "stdout",
     "output_type": "stream",
     "text": [
      "243\n",
      "239\n",
      "Svalbard And Jan Mayen               252\n",
      "Canada                               215\n",
      "Bangladesh                           210\n",
      "Sri Lanka                            208\n",
      "India                                207\n",
      "Russia                               202\n",
      "Bahamas                              201\n",
      "Algeria                              200\n",
      "Western Sahara                       192\n",
      "Turks And Caicas Islands             191\n",
      "Denmark                              191\n",
      "Cayman Islands                       191\n",
      "Greenland                            191\n",
      "Cuba                                 190\n",
      "Thailand                             190\n",
      "Jamaica                              189\n",
      "Haiti                                189\n",
      "Dominican Republic                   188\n",
      "Burma                                188\n",
      "Laos                                 188\n",
      "Honduras                             187\n",
      "Guatemala                            187\n",
      "Belize                               187\n",
      "Libya                                184\n",
      "Nicaragua                            182\n",
      "Egypt                                182\n",
      "Brazil                               181\n",
      "Tunisia                              179\n",
      "Mexico                               178\n",
      "El Salvador                          178\n",
      "                                    ... \n",
      "Kiribati                             131\n",
      "Kingman Reef                         131\n",
      "Uzbekistan                           130\n",
      "Austria                              129\n",
      "Lesotho                              128\n",
      "Norway                               121\n",
      "Lithuania                            121\n",
      "Chile                                117\n",
      "Federated States Of Micronesia       117\n",
      "Faroe Islands                        116\n",
      "Latvia                               114\n",
      "Belarus                              114\n",
      "Georgia                              112\n",
      "Northern Mariana Islands             111\n",
      "Guam                                 111\n",
      "North Korea                          108\n",
      "China                                108\n",
      "Estonia                              108\n",
      "Armenia                              104\n",
      "Åland                                 89\n",
      "Kazakhstan                            83\n",
      "Liechtenstein                         81\n",
      "North America                         80\n",
      "Saint Pierre And Miquelon             76\n",
      "Falkland Islands (Islas Malvinas)     67\n",
      "Sweden                                56\n",
      "Finland                               56\n",
      "Tajikistan                            33\n",
      "Kyrgyzstan                            19\n",
      "Iceland                                7\n",
      "Name: Country, dtype: int64\n"
     ]
    }
   ],
   "source": [
    "test = mins[mins['Uncertainty'] < 0.1]\n",
    "print(countryTemp['Country'].nunique())\n",
    "print(test['Country'].nunique())\n",
    "print(test['Country'].value_counts())"
   ]
  },
  {
   "cell_type": "code",
   "execution_count": 43,
   "metadata": {
    "collapsed": false
   },
   "outputs": [
    {
     "name": "stdout",
     "output_type": "stream",
     "text": [
      "36210\n"
     ]
    }
   ],
   "source": [
    "print(len(test))"
   ]
  },
  {
   "cell_type": "code",
   "execution_count": 33,
   "metadata": {
    "collapsed": false
   },
   "outputs": [
    {
     "data": {
      "text/plain": [
       "0.128"
      ]
     },
     "execution_count": 33,
     "metadata": {},
     "output_type": "execute_result"
    }
   ],
   "source": [
    "countryTemp[countryTemp['Country']=='Afghanistan']['AverageTemperatureUncertainty'].min()"
   ]
  },
  {
   "cell_type": "code",
   "execution_count": 9,
   "metadata": {
    "collapsed": false
   },
   "outputs": [
    {
     "data": {
      "text/html": [
       "<div>\n",
       "<table border=\"1\" class=\"dataframe\">\n",
       "  <thead>\n",
       "    <tr style=\"text-align: right;\">\n",
       "      <th></th>\n",
       "      <th>Country</th>\n",
       "      <th>AverageTemperature</th>\n",
       "      <th>AverageTemperatureUncertainty</th>\n",
       "    </tr>\n",
       "  </thead>\n",
       "  <tbody>\n",
       "    <tr>\n",
       "      <th>0</th>\n",
       "      <td>Afghanistan</td>\n",
       "      <td>14.045007</td>\n",
       "      <td>0.930162</td>\n",
       "    </tr>\n",
       "    <tr>\n",
       "      <th>1</th>\n",
       "      <td>Africa</td>\n",
       "      <td>24.074203</td>\n",
       "      <td>0.395564</td>\n",
       "    </tr>\n",
       "    <tr>\n",
       "      <th>2</th>\n",
       "      <td>Albania</td>\n",
       "      <td>12.610646</td>\n",
       "      <td>1.524574</td>\n",
       "    </tr>\n",
       "    <tr>\n",
       "      <th>3</th>\n",
       "      <td>Algeria</td>\n",
       "      <td>22.985112</td>\n",
       "      <td>1.176241</td>\n",
       "    </tr>\n",
       "    <tr>\n",
       "      <th>4</th>\n",
       "      <td>American Samoa</td>\n",
       "      <td>26.611965</td>\n",
       "      <td>0.541258</td>\n",
       "    </tr>\n",
       "  </tbody>\n",
       "</table>\n",
       "</div>"
      ],
      "text/plain": [
       "          Country  AverageTemperature  AverageTemperatureUncertainty\n",
       "0     Afghanistan           14.045007                       0.930162\n",
       "1          Africa           24.074203                       0.395564\n",
       "2         Albania           12.610646                       1.524574\n",
       "3         Algeria           22.985112                       1.176241\n",
       "4  American Samoa           26.611965                       0.541258"
      ]
     },
     "execution_count": 9,
     "metadata": {},
     "output_type": "execute_result"
    }
   ],
   "source": [
    "countryTemp.groupby('Country').mean().reset_index(drop=False).head()"
   ]
  },
  {
   "cell_type": "markdown",
   "metadata": {},
   "source": [
    "find a way to take the first three and last three of each country and find the difference"
   ]
  }
 ],
 "metadata": {
  "anaconda-cloud": {},
  "kernelspec": {
   "display_name": "Python [conda root]",
   "language": "python",
   "name": "conda-root-py"
  },
  "language_info": {
   "codemirror_mode": {
    "name": "ipython",
    "version": 3
   },
   "file_extension": ".py",
   "mimetype": "text/x-python",
   "name": "python",
   "nbconvert_exporter": "python",
   "pygments_lexer": "ipython3",
   "version": "3.5.2"
  }
 },
 "nbformat": 4,
 "nbformat_minor": 1
}
