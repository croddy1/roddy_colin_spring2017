{
 "cells": [
  {
   "cell_type": "code",
   "execution_count": 1,
   "metadata": {
    "collapsed": true
   },
   "outputs": [],
   "source": [
    "import nltk,glob,os,sys,time,IPython,csv,matplotlib\n",
    "from email.parser import Parser\n",
    "from os.path import expanduser\n",
    "from datetime import datetime\n",
    "from datetime import date\n",
    "home = expanduser(\"~\")\n",
    "sound_file = '/Users/Colin/Documents/horse.wav'"
   ]
  },
  {
   "cell_type": "code",
   "execution_count": 2,
   "metadata": {
    "collapsed": true
   },
   "outputs": [],
   "source": [
    "#convert file to email object\n",
    "def toEmail(file):\n",
    "    zoo = open(file, 'r',errors='ignore') #had issues with the open function so I forced the open to ignore errors\n",
    "    moo = zoo.read() #read in file\n",
    "    email = Parser().parsestr(moo)\n",
    "    return(email)"
   ]
  },
  {
   "cell_type": "code",
   "execution_count": 4,
   "metadata": {
    "collapsed": true
   },
   "outputs": [],
   "source": [
    "#Get file names from folder\n",
    "def namesFromFolder(aPath):\n",
    "    aList = []\n",
    "    for path, subdirs, files in os.walk(aPath):\n",
    "        for name in files:\n",
    "            if name != '.DS_Store':\n",
    "                aList.append(name)\n",
    "                #print(os.path.join(path, name))\n",
    "    return aList\n",
    "\n",
    "#Get file paths from folder\n",
    "def pathsFromFolder(aPath):\n",
    "    aList = []\n",
    "    for path, subdirs, files in os.walk(aPath):\n",
    "        for name in files:\n",
    "            if name != '.DS_Store':\n",
    "                aList.append(os.path.join(path,name))\n",
    "                #print(os.path.join(path, name))\n",
    "    return aList"
   ]
  },
  {
   "cell_type": "code",
   "execution_count": 5,
   "metadata": {
    "collapsed": false
   },
   "outputs": [],
   "source": [
    "aList = pathsFromFolder(os.path.join(home,'midterm/data/enron/maildir'))"
   ]
  },
  {
   "cell_type": "code",
   "execution_count": null,
   "metadata": {
    "collapsed": true
   },
   "outputs": [],
   "source": [
    "emailList = {}\n",
    "start_time = time.time()\n",
    "for each in aList[0:]:\n",
    "    email = toEmail(each)\n",
    "    fro = email['from']\n",
    "    if fro:\n",
    "        fro.lower()\n",
    "    if fro in emailList:\n",
    "        emailList[fro] += 1\n",
    "    else:\n",
    "        emailList[fro] = 1\n",
    "\n",
    "newList = sorted(emailList.items(), key=lambda a: a[1], reverse = True)\n",
    "print(newList[0:5])\n",
    "print(\"--- %s seconds ---\" % (time.time() - start_time))"
   ]
  },
  {
   "cell_type": "code",
   "execution_count": 11,
   "metadata": {
    "collapsed": false
   },
   "outputs": [],
   "source": [
    "dList = []\n",
    "for each in newList:\n",
    "    dList.append([each[0],each[1]])\n",
    "    \n",
    "with open('ana_1/emails.csv', 'w', newline='') as rest:\n",
    "    writer = csv.writer(rest, delimiter=',')\n",
    "    writer.writerow([\"Person\",\"Number of Emails\"])\n",
    "    writer.writerows(dList)"
   ]
  }
 ],
 "metadata": {
  "anaconda-cloud": {},
  "kernelspec": {
   "display_name": "Python [conda root]",
   "language": "python",
   "name": "conda-root-py"
  },
  "language_info": {
   "codemirror_mode": {
    "name": "ipython",
    "version": 3
   },
   "file_extension": ".py",
   "mimetype": "text/x-python",
   "name": "python",
   "nbconvert_exporter": "python",
   "pygments_lexer": "ipython3",
   "version": "3.5.2"
  }
 },
 "nbformat": 4,
 "nbformat_minor": 1
}
