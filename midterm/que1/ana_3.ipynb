{
 "cells": [
  {
   "cell_type": "markdown",
   "metadata": {},
   "source": [
    "A good place to look would be the emails betwen Kenneth Lay, Jeffrey Skilling, and Andrew Fastow"
   ]
  },
  {
   "cell_type": "code",
   "execution_count": 15,
   "metadata": {
    "collapsed": true
   },
   "outputs": [],
   "source": [
    "import nltk,glob,os,sys,time,IPython,csv\n",
    "from email.parser import Parser\n",
    "from os.path import expanduser\n",
    "from datetime import datetime\n",
    "from datetime import date\n",
    "home = expanduser(\"~\")\n",
    "sound_file = '/Users/Colin/Documents/horse.wav'"
   ]
  },
  {
   "cell_type": "code",
   "execution_count": 2,
   "metadata": {
    "collapsed": true
   },
   "outputs": [],
   "source": [
    "#convert file to email object\n",
    "def toEmail(file):\n",
    "    zoo = open(file, 'r',errors='ignore') #had issues with the open function so I forced the open to ignore errors\n",
    "    moo = zoo.read() #read in file\n",
    "    email = Parser().parsestr(moo)\n",
    "    return(email)"
   ]
  },
  {
   "cell_type": "code",
   "execution_count": 25,
   "metadata": {
    "collapsed": true
   },
   "outputs": [],
   "source": [
    "#count the number of emails a person has sent to each person(source: his/her directory)\n",
    "def sentEmails(name):\n",
    "    first = name.lower().split(' ')[0]\n",
    "    last = name.lower().split(' ')[1]\n",
    "    fName = last+'-'+list(first)[0]\n",
    "    directory = home+'/midterm/data/enron/maildir'\n",
    "    dirty = os.path.join(directory,fName)\n",
    "    mailAdd = first+'.'+last+'@enron.com'\n",
    "    zoo = dict()\n",
    "    folds = glob.glob(dirty+'/*')\n",
    "    for each in folds:\n",
    "        fids = glob.glob(each+'/*.')\n",
    "        for n in fids:\n",
    "            email = toEmail(n)\n",
    "            if email['from'] == mailAdd:\n",
    "                sent = email['to']\n",
    "                if sent is not None:\n",
    "                    if ',' in sent:\n",
    "                        sent = sent.split(',')\n",
    "                        sent = [s.strip() for s in sent]\n",
    "                        for x in sent:\n",
    "                            if x in zoo:\n",
    "                                zoo[x] += 1\n",
    "                            else:\n",
    "                                zoo[x] = 1\n",
    "                    else:\n",
    "                        if sent in zoo:\n",
    "                            zoo[sent] += 1\n",
    "                        else:\n",
    "                            zoo[sent] = 1\n",
    "    return zoo"
   ]
  },
  {
   "cell_type": "code",
   "execution_count": 24,
   "metadata": {
    "collapsed": true
   },
   "outputs": [],
   "source": [
    "#count the number of emails a person has received from each person (source: his/her directory)\n",
    "def receivedByName(name):\n",
    "    first = name.lower().split(' ')[0]\n",
    "    last = name.lower().split(' ')[1]\n",
    "    fName = last+'-'+list(first)[0]\n",
    "    directory = home+'/midterm/data/enron/maildir'\n",
    "    dirty = os.path.join(directory,fName)\n",
    "    mailAdd = first+'.'+last+'@enron.com'\n",
    "    zoo = dict()\n",
    "    folds = glob.glob(dirty+'/*')\n",
    "    for each in folds:\n",
    "        fids = glob.glob(each+'/*.')\n",
    "        for n in fids:\n",
    "            email = toEmail(n)\n",
    "            sent = email['from']\n",
    "            ID = email['message-id']\n",
    "            #print(ID)\n",
    "            to = email['to']\n",
    "            tos = []\n",
    "            if to is not None:\n",
    "                if ',' in to:\n",
    "                    tos = to.split(',')\n",
    "                    tos = [s.strip() for s in to]\n",
    "                if (mailAdd in tos) or (mailAdd == to):\n",
    "                    if sent is not None:\n",
    "                        if ',' in sent:\n",
    "                            sent = sent.split(',')\n",
    "                            sent = [s.strip() for s in sent]\n",
    "                            for name in sent:\n",
    "                                if name in zoo:\n",
    "                                    if ID not in zoo[name]:\n",
    "                                        zoo[name][ID] = email\n",
    "                                else:\n",
    "                                    zoo[name]={}\n",
    "                                    zoo[name][ID] = email\n",
    "                        else:\n",
    "                            if sent in zoo:\n",
    "                                if ID not in zoo[sent]:\n",
    "                                    zoo[sent][ID] = email\n",
    "                            else:\n",
    "                                zoo[sent]={}\n",
    "                                zoo[sent][ID] = email\n",
    "    return zoo"
   ]
  },
  {
   "cell_type": "code",
   "execution_count": 23,
   "metadata": {
    "collapsed": true
   },
   "outputs": [],
   "source": [
    "#create a list of emails sent by an individual, sorted by receiver (source: his/her directory)\n",
    "def sentByName(name):\n",
    "    first = name.lower().split(' ')[0]\n",
    "    last = name.lower().split(' ')[1]\n",
    "    fName = last+'-'+list(first)[0]\n",
    "    directory = home+'/midterm/data/enron/maildir'\n",
    "    dirty = os.path.join(directory,fName)\n",
    "    mailAdd = first+'.'+last+'@enron.com'\n",
    "    zoo = dict()\n",
    "    folds = glob.glob(dirty+'/*')\n",
    "    for each in folds:\n",
    "        fids = glob.glob(each+'/*.')\n",
    "        for n in fids:\n",
    "            email = toEmail(n)\n",
    "            if email['from'] == mailAdd:\n",
    "                sent = email['to']\n",
    "                ID = email['message-id']\n",
    "                #print(ID)\n",
    "                if sent is not None:\n",
    "                    if ',' in sent:\n",
    "                        sent = sent.split(',')\n",
    "                        sent = [s.strip() for s in sent]\n",
    "                        for name in sent:\n",
    "                            if name in zoo:\n",
    "                                if ID not in zoo[name]:\n",
    "                                    zoo[name][ID] = email\n",
    "                            else:\n",
    "                                zoo[name]={}\n",
    "                                zoo[name][ID] = email\n",
    "                    else:\n",
    "                        if sent in zoo:\n",
    "                            if ID not in zoo[sent]:\n",
    "                                zoo[sent][ID] = email\n",
    "                        else:\n",
    "                            zoo[sent]={}\n",
    "                            zoo[sent][ID] = email\n",
    "    return zoo"
   ]
  },
  {
   "cell_type": "code",
   "execution_count": 22,
   "metadata": {
    "collapsed": true
   },
   "outputs": [],
   "source": [
    "#create a list of emails received by an individual, sorted by sender (source: his/her directory)\n",
    "def receivedByName(name):\n",
    "    first = name.lower().split(' ')[0]\n",
    "    last = name.lower().split(' ')[1]\n",
    "    fName = last+'-'+list(first)[0]\n",
    "    directory = home+'/midterm/data/enron/maildir'\n",
    "    dirty = os.path.join(directory,fName)\n",
    "    mailAdd = first+'.'+last+'@enron.com'\n",
    "    zoo = dict()\n",
    "    folds = glob.glob(dirty+'/*')\n",
    "    for each in folds:\n",
    "        fids = glob.glob(each+'/*.')\n",
    "        for n in fids:\n",
    "            email = toEmail(n)\n",
    "            to = email['to']\n",
    "            tos = []\n",
    "            if to is not None:\n",
    "                if ',' in to:\n",
    "                    tos = to.split(',')\n",
    "                    tos = [s.strip() for s in to]\n",
    "                if (mailAdd in tos) or (mailAdd == to):\n",
    "                    sent = email['from']\n",
    "                    ID = email['message-id']\n",
    "                    #print(ID)\n",
    "                    if sent is not None:\n",
    "                        if ',' in sent:\n",
    "                            sent = sent.split(',')\n",
    "                            sent = [s.strip() for s in sent]\n",
    "                            for name in sent:\n",
    "                                if name in zoo:\n",
    "                                    if ID not in zoo[name]:\n",
    "                                        zoo[name][ID] = email\n",
    "                                else:\n",
    "                                    zoo[name]={}\n",
    "                                    zoo[name][ID] = email\n",
    "                        else:\n",
    "                            if sent in zoo:\n",
    "                                if ID not in zoo[sent]:\n",
    "                                    zoo[sent][ID] = email\n",
    "                            else:\n",
    "                                zoo[sent]={}\n",
    "                                zoo[sent][ID] = email\n",
    "    return zoo"
   ]
  },
  {
   "cell_type": "code",
   "execution_count": 28,
   "metadata": {
    "collapsed": true
   },
   "outputs": [],
   "source": [
    "#create a list of emails between two people (source: their folders)\n",
    "def emailsBetweenEnron(a,b):\n",
    "    aFirst = a.lower().split(' ')[0]\n",
    "    aLast = a.lower().split(' ')[1]\n",
    "    bFirst = b.lower().split(' ')[0]\n",
    "    bLast = b.lower().split(' ')[1]\n",
    "    aMail = aFirst+'.'+aLast+'@enron.com'\n",
    "    bMail = bFirst+'.'+bLast+'@enron.com'\n",
    "    aList = sentByName(a) #sent by a\n",
    "    bList = receivedByName(b) #received by b\n",
    "    cList = receivedByName(a) #received by a\n",
    "    dList = sentByName(b) #sent by b\n",
    "    finList = {}\n",
    "    if bMail in aList.keys():\n",
    "        finList.update(aList[bMail])\n",
    "    if aMail in bList.keys():\n",
    "        finList.update(bList[aMail])\n",
    "    if bMail in cList.keys():\n",
    "        finList.update(cList[bMail])\n",
    "    if aMail in dList.keys():\n",
    "        finList.update(dList[aMail])\n",
    "    print(len(finList),'total between',a,'and',b)\n",
    "    return finList"
   ]
  },
  {
   "cell_type": "code",
   "execution_count": 47,
   "metadata": {
    "collapsed": true
   },
   "outputs": [],
   "source": [
    "kList = sentEmails('Kenneth Lay')\n",
    "jList = sentEmails('Jeff Skilling')\n",
    "#aList = sentEmails('Andrew Fastow') Fastow's emails not in file system"
   ]
  },
  {
   "cell_type": "code",
   "execution_count": 48,
   "metadata": {
    "collapsed": false
   },
   "outputs": [],
   "source": [
    "numList = sorted(kList.items(), key=lambda a: a[1], reverse = True)\n",
    "someList = []\n",
    "for each in numList:\n",
    "    someList.append([each[0],each[1]])\n",
    "#export restaurant data to CSV file\n",
    "with open('ana_3/KLay_Email_Frequency.csv', 'w', newline='') as rest:\n",
    "    writer = csv.writer(rest, delimiter=',')\n",
    "    writer.writerow([\"Person\", \"Number of Emails\"])\n",
    "    writer.writerows(someList)"
   ]
  },
  {
   "cell_type": "code",
   "execution_count": 49,
   "metadata": {
    "collapsed": false
   },
   "outputs": [],
   "source": [
    "numList = sorted(jList.items(), key=lambda a: a[1], reverse = True)\n",
    "someList = []\n",
    "for each in numList:\n",
    "    someList.append([each[0],each[1]])\n",
    "#export restaurant data to CSV file\n",
    "with open('ana_3/JSkilling_Email_Frequency.csv', 'w', newline='') as rest:\n",
    "    writer = csv.writer(rest, delimiter=',')\n",
    "    writer.writerow([\"Person\", \"Number of Emails\"])\n",
    "    writer.writerows(someList)"
   ]
  },
  {
   "cell_type": "code",
   "execution_count": 29,
   "metadata": {
    "collapsed": false
   },
   "outputs": [
    {
     "name": "stdout",
     "output_type": "stream",
     "text": [
      "2 total between Kenneth Lay and Andrew Fastow\n",
      "5 total between Andrew Fastow and Jeff Skilling\n",
      "0 total between Kenneth Lay and Jeff Skilling\n"
     ]
    }
   ],
   "source": [
    "kaList = emailsBetweenEnron('Kenneth Lay','Andrew Fastow')\n",
    "ajList = emailsBetweenEnron('Andrew Fastow','Jeff Skilling')\n",
    "kjList = emailsBetweenEnron('Kenneth Lay','Jeff Skilling')"
   ]
  },
  {
   "cell_type": "code",
   "execution_count": 50,
   "metadata": {
    "collapsed": false
   },
   "outputs": [],
   "source": [
    "someList = []\n",
    "for each in kaList:\n",
    "    email = kaList[each]\n",
    "    subject = email['subject']\n",
    "    date = email['date']\n",
    "    body = email.get_payload()\n",
    "    someList.append([fro,to,date,subject,each,body])\n",
    "#export restaurant data to CSV file\n",
    "with open('ana_3/Lay_Fastow_Emails.csv', 'w', newline='') as rest:\n",
    "    writer = csv.writer(rest, delimiter=',')\n",
    "    writer.writerow([\"Date\", \"Subject\", \"ID\", \"Body\"])\n",
    "    writer.writerows(someList)"
   ]
  },
  {
   "cell_type": "code",
   "execution_count": 51,
   "metadata": {
    "collapsed": false
   },
   "outputs": [],
   "source": [
    "someList = []\n",
    "for each in ajList:\n",
    "    email = ajList[each]\n",
    "    subject = email['subject']\n",
    "    date = email['date']\n",
    "    body = email.get_payload()\n",
    "    someList.append([fro,to,date,subject,each,body])\n",
    "#export restaurant data to CSV file\n",
    "with open('ana_3/Fastow_Slikking_Emails.csv', 'w', newline='') as rest:\n",
    "    writer = csv.writer(rest, delimiter=',')\n",
    "    t\n",
    "    writer.writerows(someList)"
   ]
  },
  {
   "cell_type": "code",
   "execution_count": null,
   "metadata": {
    "collapsed": true
   },
   "outputs": [],
   "source": []
  }
 ],
 "metadata": {
  "kernelspec": {
   "display_name": "Python [conda root]",
   "language": "python",
   "name": "conda-root-py"
  },
  "language_info": {
   "codemirror_mode": {
    "name": "ipython",
    "version": 3
   },
   "file_extension": ".py",
   "mimetype": "text/x-python",
   "name": "python",
   "nbconvert_exporter": "python",
   "pygments_lexer": "ipython3",
   "version": "3.5.2"
  }
 },
 "nbformat": 4,
 "nbformat_minor": 1
}
