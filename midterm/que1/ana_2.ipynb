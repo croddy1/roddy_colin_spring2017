{
 "cells": [
  {
   "cell_type": "markdown",
   "metadata": {},
   "source": [
    "Anything involving Arthur Andersen"
   ]
  },
  {
   "cell_type": "code",
   "execution_count": 85,
   "metadata": {
    "collapsed": false
   },
   "outputs": [],
   "source": [
    "import nltk,glob,os,sys,time,IPython,csv,matplotlib\n",
    "from email.parser import Parser\n",
    "from os.path import expanduser\n",
    "from datetime import datetime\n",
    "from datetime import date\n",
    "home = expanduser(\"~\")\n",
    "sound_file = '/Users/Colin/Documents/horse.wav'"
   ]
  },
  {
   "cell_type": "code",
   "execution_count": 6,
   "metadata": {
    "collapsed": true
   },
   "outputs": [],
   "source": [
    "#convert file to email object\n",
    "def toEmail(file):\n",
    "    zoo = open(file, 'r',errors='ignore') #had issues with the open function so I forced the open to ignore errors\n",
    "    moo = zoo.read() #read in file\n",
    "    email = Parser().parsestr(moo)\n",
    "    return(email)"
   ]
  },
  {
   "cell_type": "code",
   "execution_count": 78,
   "metadata": {
    "collapsed": true
   },
   "outputs": [],
   "source": [
    "def eDate(mail):\n",
    "    strDate = each['date'].split('-')[0].split(',')[1].strip()\n",
    "    dat = datetime.strptime(strDate,'%d %b %Y %H:%M:%S')\n",
    "    dat = datetime.date(dat)\n",
    "    return dat"
   ]
  },
  {
   "cell_type": "code",
   "execution_count": null,
   "metadata": {
    "collapsed": true
   },
   "outputs": [],
   "source": [
    "def isBetween(dLow, dHigh, email):\n",
    "    return dLow <= eDate(email) <= dHigh"
   ]
  },
  {
   "cell_type": "code",
   "execution_count": 4,
   "metadata": {
    "collapsed": true
   },
   "outputs": [],
   "source": [
    "#Get file names from folder\n",
    "def namesFromFolder(aPath):\n",
    "    aList = []\n",
    "    for path, subdirs, files in os.walk(aPath):\n",
    "        for name in files:\n",
    "            if name != '.DS_Store':\n",
    "                aList.append(name)\n",
    "                #print(os.path.join(path, name))\n",
    "    return aList\n",
    "\n",
    "#Get file paths from folder\n",
    "def pathsFromFolder(aPath):\n",
    "    aList = []\n",
    "    for path, subdirs, files in os.walk(aPath):\n",
    "        for name in files:\n",
    "            if name != '.DS_Store':\n",
    "                aList.append(os.path.join(path,name))\n",
    "                #print(os.path.join(path, name))\n",
    "    return aList"
   ]
  },
  {
   "cell_type": "code",
   "execution_count": 103,
   "metadata": {
    "collapsed": false
   },
   "outputs": [],
   "source": [
    "aList = pathsFromFolder(os.path.join(home,'midterm/data/enron/maildir'))"
   ]
  },
  {
   "cell_type": "code",
   "execution_count": 102,
   "metadata": {
    "collapsed": false
   },
   "outputs": [
    {
     "name": "stdout",
     "output_type": "stream",
     "text": [
      "There are 436 emails that mention Andersen\n"
     ]
    }
   ],
   "source": [
    "andersenList = []\n",
    "start_time = time.time()\n",
    "for each in aList[0:]:\n",
    "    email = toEmail(each)\n",
    "    to = email['to']\n",
    "    fro = email['from']\n",
    "    body = email.get_payload()\n",
    "    if to:\n",
    "        to.lower()\n",
    "    if fro:\n",
    "        fro.lower()\n",
    "    if body:\n",
    "        body.lower()\n",
    "    if 'andersen' in (to or fro or body):\n",
    "        andersenList.append(email)\n",
    "print('There are',len(andersenList),'emails that mention Andersen')\n",
    "#print(\"--- %s seconds ---\" % (time.time() - start_time))"
   ]
  },
  {
   "cell_type": "code",
   "execution_count": 101,
   "metadata": {
    "collapsed": false
   },
   "outputs": [],
   "source": [
    "dateList = {}\n",
    "for each in andersenList[0:]:\n",
    "    dat = eDate(each)\n",
    "    if dat in dateList:\n",
    "        dateList[dat] += 1\n",
    "    else:\n",
    "        dateList[dat] = 1\n",
    "\n",
    "dList = []\n",
    "for each in dateList:\n",
    "    dat = each\n",
    "    val = dateList[each]\n",
    "    dList.append([dat.strftime('%m-%d-%Y'),val])\n",
    "\n",
    "with open('ana_2/andersenDates.csv', 'w', newline='') as rest:\n",
    "    writer = csv.writer(rest, delimiter=',')\n",
    "    writer.writerow([\"Date\"])\n",
    "    writer.writerows(dList)"
   ]
  },
  {
   "cell_type": "code",
   "execution_count": null,
   "metadata": {
    "collapsed": true
   },
   "outputs": [],
   "source": []
  }
 ],
 "metadata": {
  "anaconda-cloud": {},
  "kernelspec": {
   "display_name": "Python [conda root]",
   "language": "python",
   "name": "conda-root-py"
  },
  "language_info": {
   "codemirror_mode": {
    "name": "ipython",
    "version": 3
   },
   "file_extension": ".py",
   "mimetype": "text/x-python",
   "name": "python",
   "nbconvert_exporter": "python",
   "pygments_lexer": "ipython3",
   "version": "3.5.2"
  }
 },
 "nbformat": 4,
 "nbformat_minor": 1
}
