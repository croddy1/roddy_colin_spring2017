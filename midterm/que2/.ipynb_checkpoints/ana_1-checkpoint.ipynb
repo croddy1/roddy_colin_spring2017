{
 "cells": [
  {
   "cell_type": "code",
   "execution_count": 81,
   "metadata": {
    "collapsed": true
   },
   "outputs": [],
   "source": [
    "import requests,datetime,json,os,nltk,glob,sys,time,IPython,csv\n",
    "from os.path import expanduser\n",
    "from datetime import datetime\n",
    "from datetime import date\n",
    "home = expanduser(\"~\")"
   ]
  },
  {
   "cell_type": "code",
   "execution_count": 88,
   "metadata": {
    "collapsed": true
   },
   "outputs": [],
   "source": [
    "#FOR ARCHIVE SEARCH\n",
    "def archiveSearch(year):\n",
    "    months = list(range(1,13))\n",
    "    for month in months:\n",
    "        url = \"https://api.nytimes.com/svc/archive/v1/%s/%s.json\" %(year,month)\n",
    "        r = requests.get(url, headers = apikey)\n",
    "        #print(r)\n",
    "        text = r.json()\n",
    "        results = text['response']['docs']\n",
    "        errors=0\n",
    "        for each in results:\n",
    "            title = each['headline']['main']\n",
    "            section = each['section_name']\n",
    "            subsection = each['subsection_name']\n",
    "            #print(section,subsection)\n",
    "            if section is not None:\n",
    "                if subsection is not None:\n",
    "                    directory = home+'/midterm/data/NYT/archive/%s/%s/%s/%s' %(year,month,section,subsection)\n",
    "                else:\n",
    "                    if len(section.split('/')) > 1:\n",
    "                        directory = home+'/midterm/data/NYT/archive/%s/%s/%s' %(year,month,section)\n",
    "                    else:\n",
    "                        directory = home+'/midterm/data/NYT/archive/%s/%s/%s/No_Subsection' %(year,month,section)\n",
    "            else:\n",
    "                directory = home+'/midterm/data/NYT/archive/%s/%s/No_Section' %(year,month)\n",
    "\n",
    "            if not os.path.exists(directory):os.makedirs(directory) #create directory if it does not alredy exist\n",
    "            if '/' in title: \n",
    "                title = title.replace('/','.')\n",
    "            try:\n",
    "                with open(os.path.join(directory,title),'w+') as outPut:\n",
    "                    json.dump(each,outPut)\n",
    "            except OSError as e:\n",
    "                #print(os.path.join(directory,title))\n",
    "                errors += 1\n",
    "    print('-----there were %s incompatable files' %errors)"
   ]
  },
  {
   "cell_type": "code",
   "execution_count": null,
   "metadata": {
    "collapsed": true
   },
   "outputs": [],
   "source": [
    "#archiveSearch('2016') to pull data from the archive for 2016"
   ]
  },
  {
   "cell_type": "code",
   "execution_count": 84,
   "metadata": {
    "collapsed": true
   },
   "outputs": [],
   "source": [
    "#Get file paths from folder\n",
    "def pathsFromFolder(aPath):\n",
    "    aList = []\n",
    "    for path, subdirs, files in os.walk(aPath):\n",
    "        for name in files:\n",
    "            if name != '.DS_Store':\n",
    "                aList.append(os.path.join(path,name))\n",
    "                #print(os.path.join(path, name))\n",
    "    return aList\n",
    "\n",
    "#Get file names from folder\n",
    "def namesFromFolder(aPath):\n",
    "    aList = []\n",
    "    for path, subdirs, files in os.walk(aPath):\n",
    "        for name in files:\n",
    "            if name != '.DS_Store':\n",
    "                aList.append(name)\n",
    "                #print(os.path.join(path, name))\n",
    "    return aList"
   ]
  },
  {
   "cell_type": "code",
   "execution_count": 85,
   "metadata": {
    "collapsed": false
   },
   "outputs": [],
   "source": [
    "direct = os.path.join(home,'midterm/data/NYT/archive')\n",
    "allFiles = pathsFromFolder(direct)"
   ]
  },
  {
   "cell_type": "code",
   "execution_count": 86,
   "metadata": {
    "collapsed": false
   },
   "outputs": [],
   "source": [
    "allAuthors = dict()\n",
    "for file in allFiles[0:]:\n",
    "    text = json.load(open(file))\n",
    "    if text['byline']:\n",
    "        author = text['byline']['original'].lower()\n",
    "        if author.startswith('by '):\n",
    "            author = author.split(' ', 1)[1]\n",
    "        if (' and ' or ',') in author:\n",
    "            authors = author.replace(' and ', ',')\n",
    "            authors = author.split(',')\n",
    "            for author in authors:\n",
    "                if each in allAuthors:\n",
    "                    allAuthors[author] += 1\n",
    "                else:\n",
    "                    allAuthors[author] = 1\n",
    "        else:\n",
    "            if author in allAuthors:\n",
    "                allAuthors[author] += 1\n",
    "            else:\n",
    "                allAuthors[author] = 1\n",
    "        \n",
    "topAuthors = sorted(allAuthors.items(), key=lambda a: a[1], reverse = True)"
   ]
  },
  {
   "cell_type": "code",
   "execution_count": 87,
   "metadata": {
    "collapsed": false
   },
   "outputs": [],
   "source": [
    "aList = []\n",
    "for each in topAuthors:\n",
    "    aList.append([each[0],each[1]])\n",
    "    \n",
    "with open('ana_1/authors.csv', 'w', newline='') as rest:\n",
    "    writer = csv.writer(rest, delimiter=',')\n",
    "    writer.writerow([\"Author\",\"Number of Articles\"])\n",
    "    writer.writerows(aList)"
   ]
  },
  {
   "cell_type": "code",
   "execution_count": null,
   "metadata": {
    "collapsed": true
   },
   "outputs": [],
   "source": []
  }
 ],
 "metadata": {
  "anaconda-cloud": {},
  "kernelspec": {
   "display_name": "Python [conda root]",
   "language": "python",
   "name": "conda-root-py"
  },
  "language_info": {
   "codemirror_mode": {
    "name": "ipython",
    "version": 3
   },
   "file_extension": ".py",
   "mimetype": "text/x-python",
   "name": "python",
   "nbconvert_exporter": "python",
   "pygments_lexer": "ipython3",
   "version": "3.5.2"
  }
 },
 "nbformat": 4,
 "nbformat_minor": 1
}
