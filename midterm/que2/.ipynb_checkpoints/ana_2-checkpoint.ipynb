{
 "cells": [
  {
   "cell_type": "code",
   "execution_count": 102,
   "metadata": {
    "collapsed": true
   },
   "outputs": [],
   "source": [
    "import requests,datetime,json,os,nltk,glob,sys,time,IPython,csv\n",
    "from os.path import expanduser\n",
    "from datetime import datetime\n",
    "from datetime import date\n",
    "home = expanduser(\"~\")"
   ]
  },
  {
   "cell_type": "code",
   "execution_count": 84,
   "metadata": {
    "collapsed": true
   },
   "outputs": [],
   "source": [
    "#Get file paths from folder\n",
    "def pathsFromFolder(aPath):\n",
    "    aList = []\n",
    "    for path, subdirs, files in os.walk(aPath):\n",
    "        for name in files:\n",
    "            if name != '.DS_Store':\n",
    "                aList.append(os.path.join(path,name))\n",
    "                #print(os.path.join(path, name))\n",
    "    return aList\n",
    "\n",
    "#Get file names from folder\n",
    "def namesFromFolder(aPath):\n",
    "    aList = []\n",
    "    for path, subdirs, files in os.walk(aPath):\n",
    "        for name in files:\n",
    "            if name != '.DS_Store':\n",
    "                aList.append(name)\n",
    "                #print(os.path.join(path, name))\n",
    "    return aList"
   ]
  },
  {
   "cell_type": "code",
   "execution_count": 119,
   "metadata": {
    "collapsed": true
   },
   "outputs": [],
   "source": [
    "def pDate(text):\n",
    "    strDate = text['pub_date'].split('T')[0]\n",
    "    date = datetime.strptime(strDate,'%Y-%m-%d')\n",
    "    date = datetime.date(date)\n",
    "    return date"
   ]
  },
  {
   "cell_type": "code",
   "execution_count": 86,
   "metadata": {
    "collapsed": false
   },
   "outputs": [],
   "source": [
    "direct = os.path.join(home,'midterm/data/NYT/archive')\n",
    "allFiles = pathsFromFolder(direct)"
   ]
  },
  {
   "cell_type": "code",
   "execution_count": 115,
   "metadata": {
    "collapsed": false
   },
   "outputs": [],
   "source": [
    "def articlesByDay(year):\n",
    "    results = dict()\n",
    "    direct = os.path.join(home,'midterm/data/NYT/archive',year)\n",
    "    allFiles = pathsFromFolder(direct)\n",
    "    for file in allFiles[0:]:\n",
    "        text = json.load(open(file))\n",
    "        if 'section_name' in text.keys():\n",
    "            section = text['section_name']\n",
    "        if 'pub_date' in text.keys():\n",
    "            date = pDate(text)\n",
    "            year = date.year\n",
    "            month = date.month\n",
    "            day = date.day\n",
    "            #print(date)\n",
    "            if year in results.keys():\n",
    "                if month in results[year].keys():\n",
    "                    if day not in results[year][month].keys():\n",
    "                        results[year][month][day] = {}\n",
    "                else:\n",
    "                    results[year][month]={day:{}}\n",
    "            else:\n",
    "                results[year]={month:{day:{}}}\n",
    "\n",
    "            #results = {year:{month:{day:{}}}}\n",
    "            #print(results)\n",
    "            if section in results[year][month][day]:\n",
    "                results[year][month][day][section] += 1\n",
    "            else:\n",
    "                results[year][month][day][section] = 1\n",
    "                \n",
    "    return results"
   ]
  },
  {
   "cell_type": "code",
   "execution_count": 88,
   "metadata": {
    "collapsed": false
   },
   "outputs": [],
   "source": [
    "def articlesByMonth(year):\n",
    "    direct = os.path.join(home,'midterm/data/NYT/archive',year)\n",
    "    results = dict()\n",
    "    months = list(range(1,13))\n",
    "    for month in months:\n",
    "        directory = os.path.join(direct,str(month))\n",
    "        folders = [x[1] for x in os.walk(directory)][0]\n",
    "        for folder in folders:\n",
    "            newdir = os.path.join(directory,folder)\n",
    "            numFiles = sum([len(files) for r, d, files in os.walk(newdir)])\n",
    "            if month not in results.keys():\n",
    "                results[month] = {}\n",
    "            results[month][folder] = numFiles\n",
    "    return results\n",
    "                    \n",
    "#print(sum([len(files) for r, d, files in os.walk(direct)]))"
   ]
  },
  {
   "cell_type": "code",
   "execution_count": 93,
   "metadata": {
    "collapsed": false
   },
   "outputs": [],
   "source": [
    "monList = articlesByMonth('2016')"
   ]
  },
  {
   "cell_type": "code",
   "execution_count": 109,
   "metadata": {
    "collapsed": false
   },
   "outputs": [],
   "source": [
    "mList = []\n",
    "for each in monList:\n",
    "    month = each\n",
    "    sub = list(monList[each].keys())\n",
    "    for x in sub:\n",
    "        num = monList[each][x]\n",
    "        mList.append([month,x,num])\n",
    "    \n",
    "with open('ana_2/articleMonth.csv', 'w', newline='') as rest:\n",
    "    writer = csv.writer(rest, delimiter=',')\n",
    "    writer.writerow([\"Month\",\"category\",\"Num Articles\"])\n",
    "    writer.writerows(mList)"
   ]
  },
  {
   "cell_type": "code",
   "execution_count": 110,
   "metadata": {
    "collapsed": false
   },
   "outputs": [],
   "source": [
    "mList = []\n",
    "for each in monList:\n",
    "    month = each\n",
    "    sub = list(monList[each].keys())\n",
    "    total = 0\n",
    "    for x in sub:\n",
    "        num = monList[each][x]\n",
    "        total += num\n",
    "    mList.append([month,total])\n",
    "    \n",
    "with open('ana_2/monthTotal.csv', 'w', newline='') as rest:\n",
    "    writer = csv.writer(rest, delimiter=',')\n",
    "    writer.writerow([\"Month\",\"Article Total\"])\n",
    "    writer.writerows(mList)"
   ]
  },
  {
   "cell_type": "code",
   "execution_count": 121,
   "metadata": {
    "collapsed": false
   },
   "outputs": [],
   "source": [
    "aList = articlesByDay('2016')"
   ]
  },
  {
   "cell_type": "code",
   "execution_count": 122,
   "metadata": {
    "collapsed": false
   },
   "outputs": [],
   "source": [
    "dList = []\n",
    "for each in aList:\n",
    "    year = each\n",
    "    sub = list(aList[year].keys())\n",
    "    for x in sub:\n",
    "        month = x\n",
    "        months = list(aList[year][month].keys())\n",
    "        for y in months:\n",
    "            day = y\n",
    "            days = list(aList[year][month][day].keys())\n",
    "            for z in days:\n",
    "                val = aList[year][month][day][z]\n",
    "                dList.append([year,month,day,z,val])\n",
    "\n",
    "with open('ana_2/articleDays.csv', 'w', newline='') as rest:\n",
    "    writer = csv.writer(rest, delimiter=',')\n",
    "    writer.writerow([\"Year\",\"Month\",\"Day\",\"Category\",\"Num Articles\"])\n",
    "    writer.writerows(dList)\n",
    "            "
   ]
  }
 ],
 "metadata": {
  "anaconda-cloud": {},
  "kernelspec": {
   "display_name": "Python [conda root]",
   "language": "python",
   "name": "conda-root-py"
  },
  "language_info": {
   "codemirror_mode": {
    "name": "ipython",
    "version": 3
   },
   "file_extension": ".py",
   "mimetype": "text/x-python",
   "name": "python",
   "nbconvert_exporter": "python",
   "pygments_lexer": "ipython3",
   "version": "3.5.2"
  }
 },
 "nbformat": 4,
 "nbformat_minor": 1
}
