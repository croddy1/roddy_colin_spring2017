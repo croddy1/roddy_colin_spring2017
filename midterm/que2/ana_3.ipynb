{
 "cells": [
  {
   "cell_type": "code",
   "execution_count": 152,
   "metadata": {
    "collapsed": true
   },
   "outputs": [],
   "source": [
    "import requests,datetime,json,os,nltk,glob,sys,time,IPython,re,csv\n",
    "from nltk.corpus import wordnet as wn\n",
    "key = os.get_env('nyt_archive_key')\n",
    "home = os.path.expanduser(\"~\")"
   ]
  },
  {
   "cell_type": "code",
   "execution_count": 110,
   "metadata": {
    "collapsed": true
   },
   "outputs": [],
   "source": [
    "def nytArticleSearch(keyword, begin_date = None, end_date = None):\n",
    "    url = \"https://api.nytimes.com/svc/search/v2/articlesearch.json\"\n",
    "    if begin_date and end_date:\n",
    "        apikey = {'apikey': key,'q': keyword, 'begin_date':begin_date, 'end_date':end_date}\n",
    "    else:\n",
    "        apikey = {'apikey': key, 'q': keyword}\n",
    "    r = requests.get(url, params = apikey)\n",
    "    text = r.json()\n",
    "    return text"
   ]
  },
  {
   "cell_type": "code",
   "execution_count": 119,
   "metadata": {
    "collapsed": false
   },
   "outputs": [],
   "source": [
    "#Get file paths from folder\n",
    "def pathsFromFolder(aPath):\n",
    "    aList = []\n",
    "    for path, subdirs, files in os.walk(aPath):\n",
    "        for name in files:\n",
    "            if name != '.DS_Store':\n",
    "                aList.append(os.path.join(path,name))\n",
    "                #print(os.path.join(path, name))\n",
    "    return aList"
   ]
  },
  {
   "cell_type": "code",
   "execution_count": 113,
   "metadata": {
    "collapsed": true
   },
   "outputs": [],
   "source": [
    "dates = [[19920901,19930201],[19960901,19970201],[20000901,20010201],[20040901,20050201],[20080901,20090201],[20120901,20130201],[20160901,20170201]]"
   ]
  },
  {
   "cell_type": "code",
   "execution_count": 114,
   "metadata": {
    "collapsed": false
   },
   "outputs": [
    {
     "name": "stdout",
     "output_type": "stream",
     "text": [
      "19920901 - 19930201\n",
      "19960901 - 19970201\n",
      "20000901 - 20010201\n",
      "20040901 - 20050201\n",
      "20080901 - 20090201\n",
      "20120901 - 20130201\n",
      "20160901 - 20170201\n"
     ]
    }
   ],
   "source": [
    "results = dict()\n",
    "ayear = 1992\n",
    "for each in dates:\n",
    "    results[ayear]= nytArticleSearch('politics',str(each[0]),str(each[1]))\n",
    "    ayear += 4\n",
    "    time.sleep(1)"
   ]
  },
  {
   "cell_type": "code",
   "execution_count": 116,
   "metadata": {
    "collapsed": false
   },
   "outputs": [
    {
     "name": "stdout",
     "output_type": "stream",
     "text": [
      "/Users/Colin/midterm/data/NYT/articleSearch/politics/2000\n",
      "/Users/Colin/midterm/data/NYT/articleSearch/politics/2008\n",
      "/Users/Colin/midterm/data/NYT/articleSearch/politics/2004\n",
      "/Users/Colin/midterm/data/NYT/articleSearch/politics/2016\n",
      "/Users/Colin/midterm/data/NYT/articleSearch/politics/1992\n",
      "/Users/Colin/midterm/data/NYT/articleSearch/politics/2012\n",
      "/Users/Colin/midterm/data/NYT/articleSearch/politics/1996\n"
     ]
    }
   ],
   "source": [
    "for year in results:\n",
    "    directory = os.path.join(home,'midterm/data/NYT/articleSearch/politics',str(year))\n",
    "    for each in results[year]['response']['docs']:\n",
    "        title = each['headline']['main']\n",
    "        if title:\n",
    "            if not os.path.exists(directory):os.makedirs(directory) #create directory if it does not alredy exist\n",
    "            if '/' in title: \n",
    "                title = title.replace('/','.')\n",
    "            try:\n",
    "                with open(os.path.join(directory,title),'w+') as outPut:\n",
    "                    json.dump(each,outPut)\n",
    "            except OSError as e:\n",
    "                print(os.path.join(directory,title))"
   ]
  },
  {
   "cell_type": "code",
   "execution_count": 139,
   "metadata": {
    "collapsed": false
   },
   "outputs": [],
   "source": [
    "direct = os.path.join(home,'midterm/data/NYT/articleSearch/politics/')\n",
    "allFiles = pathsFromFolder(direct)"
   ]
  },
  {
   "cell_type": "code",
   "execution_count": 146,
   "metadata": {
    "collapsed": false
   },
   "outputs": [],
   "source": [
    "mList = {}\n",
    "for each in allFiles:\n",
    "    year = each.split('/')[-2]\n",
    "    if year not in mList.keys():\n",
    "        mList[year] = {}\n",
    "    text = json.load(open(each))\n",
    "    if 'snippet' in text.keys():\n",
    "        snippet = text['snippet'].lower()\n",
    "    if snippet:\n",
    "        words = re.sub(\"[^\\w]\", \" \",  snippet).split()\n",
    "    for word in words:\n",
    "        if word in mList[year]:\n",
    "            mList[year][word] += 1\n",
    "        else:\n",
    "            mList[year][word] = 1\n",
    "    "
   ]
  },
  {
   "cell_type": "code",
   "execution_count": 153,
   "metadata": {
    "collapsed": false
   },
   "outputs": [],
   "source": [
    "aList = []\n",
    "for each in mList:\n",
    "    wList = list(mList[each].keys())\n",
    "    for x in wList:\n",
    "        aList.append([each,x,mList[each][x]])\n",
    "\n",
    "with open('ana_3/politicalWords.csv', 'w', newline='') as rest:\n",
    "    writer = csv.writer(rest, delimiter=',')\n",
    "    writer.writerow([\"Year\",\"Word\",\"Num Words\"])\n",
    "    writer.writerows(aList)"
   ]
  },
  {
   "cell_type": "code",
   "execution_count": null,
   "metadata": {
    "collapsed": true
   },
   "outputs": [],
   "source": []
  }
 ],
 "metadata": {
  "anaconda-cloud": {},
  "kernelspec": {
   "display_name": "Python [conda root]",
   "language": "python",
   "name": "conda-root-py"
  },
  "language_info": {
   "codemirror_mode": {
    "name": "ipython",
    "version": 3
   },
   "file_extension": ".py",
   "mimetype": "text/x-python",
   "name": "python",
   "nbconvert_exporter": "python",
   "pygments_lexer": "ipython3",
   "version": "3.5.2"
  }
 },
 "nbformat": 4,
 "nbformat_minor": 1
}
