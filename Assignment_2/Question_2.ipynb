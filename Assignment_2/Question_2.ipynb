{
 "cells": [
  {
   "cell_type": "markdown",
   "metadata": {},
   "source": [
    "# Question 2\n",
    "- Create a folder structure and copy all JSON files into it\n",
    "- For Restaurant files, export csv file containing city, country code, and open and close times for each day of the week\n",
    "- (Bonus) Separate open and close times into hours and minutes"
   ]
  },
  {
   "cell_type": "code",
   "execution_count": 165,
   "metadata": {
    "collapsed": false
   },
   "outputs": [],
   "source": [
    "import glob\n",
    "import os\n",
    "import sys\n",
    "import json\n",
    "from shutil import copyfile\n",
    "import csv\n",
    "\n",
    "titles = glob.glob('Data/*.json') #import json file titles from Data folder\n"
   ]
  },
  {
   "cell_type": "code",
   "execution_count": 166,
   "metadata": {
    "collapsed": false
   },
   "outputs": [],
   "source": [
    "#create folder directory based on place-type, country, state, city, and finally category\n",
    "#copy files into their respective folders\n",
    "\n",
    "for rest in titles:\n",
    "    text = json.load(open(rest))\n",
    "    typ = text['term']\n",
    "    country = text['location']['country']\n",
    "    state = text['location']['state']\n",
    "    city = text['location']['city']\n",
    "    cat = text['categories']\n",
    "    #if place has multiple categories, place the file in all appropriate sub folders\n",
    "    for each in cat:\n",
    "        directory = 'Processed Data/%s/%s/%s/%s/%s' %(typ,country,state,city,each['title'])\n",
    "        if not os.path.exists(directory):os.makedirs(directory) #create directory if it does not alredy exist\n",
    "        copyfile(rest, '%s/%s' % (directory, rest.split('/')[-1])) #copy JSON file"
   ]
  },
  {
   "cell_type": "code",
   "execution_count": 167,
   "metadata": {
    "collapsed": false
   },
   "outputs": [],
   "source": [
    "#create individual lists for attractions, hotels, and restaurants\n",
    "attractions = []\n",
    "hotels = []\n",
    "restaurants = []\n",
    "for each in titles:\n",
    "    text = json.load(open(each))\n",
    "    typ = text['term']\n",
    "    if typ == 'attractions':\n",
    "        attractions.append(each)\n",
    "    if typ == 'hotels':\n",
    "        hotels.append(each)\n",
    "    if typ == 'restaurants':\n",
    "        restaurants.append(each)"
   ]
  },
  {
   "cell_type": "code",
   "execution_count": 150,
   "metadata": {
    "collapsed": true
   },
   "outputs": [],
   "source": [
    "#Function: take in time string with format 'hhmm' and return ['hh','mm']\n",
    "def timeSplit(time):\n",
    "    minuteSplit = list(time)[-2:]\n",
    "    hourSplit = list(time)[0:2]\n",
    "    minute = minuteSplit[0] + minuteSplit[1]\n",
    "    hour = hourSplit[0] + hourSplit[1]\n",
    "    return [hour, minute]"
   ]
  },
  {
   "cell_type": "code",
   "execution_count": 151,
   "metadata": {
    "collapsed": false
   },
   "outputs": [],
   "source": [
    "#create a list of restaurants with their name, city, country code, and hours of operation for each day of the week\n",
    "\n",
    "restData = []\n",
    "for each in restaurants:\n",
    "    text = json.load(open(each))\n",
    "    if 'hours' in text.keys():  #check if restaurant has hours of operation\n",
    "        name = text['name']\n",
    "        country = text['location']['country']\n",
    "        city = text['location']['city']\n",
    "        times = text['hours'][-1]['open']\n",
    "        #cycle through each day to retrieve hours of operation\n",
    "        for now in times:\n",
    "            day = now['day']\n",
    "            [startHour, startMinute] = timeSplit(now['start']) #split time into hours and minutes\n",
    "            [endHour, endMinute] = timeSplit(now['end']) #spit time into hours and minutes\n",
    "            restData.append([name,city,country,day,startHour,startMinute,endHour,startMinute])"
   ]
  },
  {
   "cell_type": "code",
   "execution_count": 152,
   "metadata": {
    "collapsed": false
   },
   "outputs": [],
   "source": [
    "#export restaurant data to CSV file\n",
    "with open('restaurants.csv', 'w', newline='') as rest:\n",
    "    writer = csv.writer(rest, delimiter=',')\n",
    "    writer.writerow([\"Restaurant\", \"City\", \"Country Code\", \"Day of Week\", \"Start Time: Hour\", \"Start Time: Minute\", \"End Time: Hour\", \"End Time: Minute\"])\n",
    "    writer.writerows(restData)"
   ]
  },
  {
   "cell_type": "markdown",
   "metadata": {},
   "source": [
    "Below is a sample of the exported csv data"
   ]
  },
  {
   "cell_type": "markdown",
   "metadata": {},
   "source": [
    "![title](RestaurantSample.png)"
   ]
  }
 ],
 "metadata": {
  "anaconda-cloud": {},
  "kernelspec": {
   "display_name": "Python [conda root]",
   "language": "python",
   "name": "conda-root-py"
  },
  "language_info": {
   "codemirror_mode": {
    "name": "ipython",
    "version": 3
   },
   "file_extension": ".py",
   "mimetype": "text/x-python",
   "name": "python",
   "nbconvert_exporter": "python",
   "pygments_lexer": "ipython3",
   "version": "3.5.2"
  }
 },
 "nbformat": 4,
 "nbformat_minor": 1
}
