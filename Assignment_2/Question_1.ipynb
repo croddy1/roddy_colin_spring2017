{
 "cells": [
  {
   "cell_type": "markdown",
   "metadata": {},
   "source": [
    "# Question 1\n",
    "- Use 'glob' to open and read file\n",
    "- Create at least one function and one lambda function\n",
    "- Save your data as a CSV file contains (Word, Rank, Frequency) with TITLE and sort it by RANK\n",
    "- Open your CSV file, generate a log-log figure according to the data you saved.\n",
    "- Write a conclusion at the end of your code base on your figure\n",
    "- (Optional) Use 'matplotlib' to generate a log-log figure in your code.\n"
   ]
  },
  {
   "cell_type": "code",
   "execution_count": 79,
   "metadata": {
    "collapsed": false
   },
   "outputs": [
    {
     "name": "stdout",
     "output_type": "stream",
     "text": [
      "['/Users/Colin/nltk_data/corpora/inaugural/1789-Washington.txt', '/Users/Colin/nltk_data/corpora/inaugural/1793-Washington.txt']\n"
     ]
    }
   ],
   "source": [
    "import glob\n",
    "import nltk\n",
    "import re\n",
    "import csv\n",
    "\n",
    "titles = glob.glob('/Users/Colin/nltk_data/corpora/gutenberg/*.txt')\n",
    "practice = glob.glob('/Users/Colin/nltk_data/corpora/inaugural/*Washington*.txt')\n",
    "print(practice)"
   ]
  },
  {
   "cell_type": "code",
   "execution_count": 77,
   "metadata": {
    "collapsed": false
   },
   "outputs": [],
   "source": [
    "def wordCount(text):\n",
    "    count = dict()\n",
    "    text = re.compile('[A-Za-z]+').findall(text)\n",
    "    text = [word.lower() for word in text]\n",
    "    for x in text:\n",
    "        if x in count:\n",
    "            count[x] = count.get(x) + 1\n",
    "        else:\n",
    "            count[x] = 1\n",
    "    sortCount = sorted(count.items(), key=lambda a: a[1], reverse = True)\n",
    "    return count"
   ]
  },
  {
   "cell_type": "code",
   "execution_count": 98,
   "metadata": {
    "collapsed": false
   },
   "outputs": [
    {
     "name": "stdout",
     "output_type": "stream",
     "text": [
      "[('to', 5242), ('the', 5204), ('and', 4897), ('of', 4293), ('i', 3192), ('a', 3130), ('it', 2529), ('her', 2490), ('was', 2400), ('she', 2364)]\n",
      "[('the', 3329), ('to', 2808), ('and', 2801), ('of', 2570), ('a', 1595), ('in', 1389), ('was', 1337), ('her', 1204), ('had', 1186), ('she', 1146)]\n",
      "[('the', 8533), ('to', 8050), ('and', 7698), ('of', 6863), ('a', 4725), ('i', 4316), ('was', 3737), ('her', 3694), ('in', 3577), ('it', 3567), ('she', 3510), ('not', 3085), ('be', 2926), ('had', 2812), ('he', 2772), ('that', 2700), ('you', 2627), ('as', 2246), ('but', 2105), ('for', 2054)]\n"
     ]
    }
   ],
   "source": [
    "totalCount = dict()\n",
    "for docs in titles[0:2]:\n",
    "    zoo = open(docs, 'r')\n",
    "    moo = zoo.read()\n",
    "    aCount = wordCount(moo)\n",
    "    for x in aCount:\n",
    "        if x in totalCount:\n",
    "            totalCount[x] = totalCount.get(x) + aCount[x]\n",
    "        else:\n",
    "            totalCount[x] = aCount[x]\n",
    "    sor = sorted(aCount.items(), key=lambda a: a[1], reverse = True)\n",
    "    print(sor[0:10])\n",
    "sortCount = sorted(totalCount.items(), key=lambda a: a[1], reverse = True)\n",
    "print(sortCount[0:20])"
   ]
  },
  {
   "cell_type": "code",
   "execution_count": 99,
   "metadata": {
    "collapsed": false
   },
   "outputs": [
    {
     "name": "stdout",
     "output_type": "stream",
     "text": [
      "[['the', 1, 8533], ['to', 2, 8050], ['and', 3, 7698], ['of', 4, 6863], ['a', 5, 4725], ['i', 6, 4316], ['was', 7, 3737], ['her', 8, 3694], ['in', 9, 3577], ['it', 10, 3567]]\n"
     ]
    }
   ],
   "source": [
    "aList = []\n",
    "x = 0\n",
    "for word in sortCount:\n",
    "    holder = [sortCount[x][0],x+1,sortCount[x][1]]\n",
    "    aList.append(holder)\n",
    "    x+=1\n",
    "print(aList[0:10])\n",
    "with open('test.csv', 'w', newline='') as test:\n",
    "    writer = csv.writer(test, delimiter=',')\n",
    "    writer.writerow([\"Word\", \"Rank\", \"Frequency\"])\n",
    "    writer.writerows(aList)"
   ]
  },
  {
   "cell_type": "code",
   "execution_count": null,
   "metadata": {
    "collapsed": true
   },
   "outputs": [],
   "source": []
  }
 ],
 "metadata": {
  "anaconda-cloud": {},
  "kernelspec": {
   "display_name": "Python [conda root]",
   "language": "python",
   "name": "conda-root-py"
  },
  "language_info": {
   "codemirror_mode": {
    "name": "ipython",
    "version": 3
   },
   "file_extension": ".py",
   "mimetype": "text/x-python",
   "name": "python",
   "nbconvert_exporter": "python",
   "pygments_lexer": "ipython3",
   "version": "3.5.2"
  }
 },
 "nbformat": 4,
 "nbformat_minor": 1
}
