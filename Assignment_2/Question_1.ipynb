{
 "cells": [
  {
   "cell_type": "markdown",
   "metadata": {},
   "source": [
    "# Question 1\n",
    "- Use 'glob' to open and read file\n",
    "- Create at least one function and one lambda function\n",
    "- Save your data as a CSV file contains (Word, Rank, Frequency) with TITLE and sort it by RANK\n",
    "- Open your CSV file, generate a log-log figure according to the data you saved.\n",
    "- Write a conclusion at the end of your code base on your figure\n",
    "- (Optional) Use 'matplotlib' to generate a log-log figure in your code.\n"
   ]
  },
  {
   "cell_type": "code",
   "execution_count": 63,
   "metadata": {
    "collapsed": false
   },
   "outputs": [],
   "source": [
    "import glob\n",
    "import nltk\n",
    "import re\n",
    "import csv\n",
    "import matplotlib.pyplot as plt\n",
    "import numpy as np\n",
    "\n",
    "#retrieve the titles/paths of all the text files in the Gutenberg corpus\n",
    "titles = glob.glob('gutenberg/*.txt')"
   ]
  },
  {
   "cell_type": "code",
   "execution_count": 51,
   "metadata": {
    "collapsed": false
   },
   "outputs": [],
   "source": [
    "# Function: take in text and return dictionary of words and their frequency\n",
    "def wordCount(text):\n",
    "    count = dict()\n",
    "    text = re.compile('[A-Za-z]+').findall(text) #put all words in text into a list\n",
    "    text = [word.lower() for word in text] #lowercase all words\n",
    "    #count the number of times a word occures in text\n",
    "    for x in text:\n",
    "        if x in count:\n",
    "            count[x] = count.get(x) + 1\n",
    "        else:\n",
    "            count[x] = 1      \n",
    "    return count"
   ]
  },
  {
   "cell_type": "code",
   "execution_count": 61,
   "metadata": {
    "collapsed": false
   },
   "outputs": [],
   "source": [
    "#create a dictionary of words and their frequencies for all files in Gutenberg corpus\n",
    "\n",
    "totalCount = dict() #master dictionary for words and their frequencies\n",
    "for docs in titles:\n",
    "    zoo = open(docs, 'r',errors='ignore') #had issues with the open function so I forced the open to ignore errors\n",
    "    moo = zoo.read() #read in file\n",
    "    aCount = wordCount(moo) #create dictionary for current file of words and their frequencies\n",
    "    \n",
    "    #populate the master dictionary\n",
    "    for x in aCount:\n",
    "        if x in totalCount:\n",
    "            totalCount[x] = totalCount.get(x) + aCount[x]\n",
    "        else:\n",
    "            totalCount[x] = aCount[x]\n",
    "            \n",
    "#sort master dictionary from most to least frequent            \n",
    "sortCount = sorted(totalCount.items(), key=lambda a: a[1], reverse = True) "
   ]
  },
  {
   "cell_type": "code",
   "execution_count": 57,
   "metadata": {
    "collapsed": false
   },
   "outputs": [],
   "source": [
    "#turn dictionary into a list word, rank, and freqency\n",
    "aList = []\n",
    "x = 0\n",
    "for word in sortCount:\n",
    "    holder = [sortCount[x][0],x+1,sortCount[x][1]]\n",
    "    aList.append(holder)\n",
    "    x+=1"
   ]
  },
  {
   "cell_type": "code",
   "execution_count": 58,
   "metadata": {
    "collapsed": false
   },
   "outputs": [],
   "source": [
    "#export list of words, ranks, and frequencies to a CSV file\n",
    "with open('gutenberg.csv', 'w', newline='') as gutenberg:\n",
    "    writer = csv.writer(gutenberg, delimiter=',')\n",
    "    writer.writerow([\"Word\", \"Rank\", \"Frequency\"])\n",
    "    writer.writerows(aList)"
   ]
  },
  {
   "cell_type": "markdown",
   "metadata": {},
   "source": [
    "Below is an image of an Excel log-log plot "
   ]
  },
  {
   "cell_type": "markdown",
   "metadata": {},
   "source": [
    "![title](ExcelFrequencyPlot.png)"
   ]
  },
  {
   "cell_type": "code",
   "execution_count": 59,
   "metadata": {
    "collapsed": false
   },
   "outputs": [
    {
     "data": {
      "text/plain": [
       "[<matplotlib.lines.Line2D at 0x1178bd668>]"
      ]
     },
     "execution_count": 59,
     "metadata": {},
     "output_type": "execute_result"
    },
    {
     "data": {
      "image/png": "[encoded data removed]",
      "text/plain": [
       "<matplotlib.figure.Figure at 0x10f46ba90>"
      ]
     },
     "metadata": {},
     "output_type": "display_data"
    }
   ],
   "source": [
    "#use matplotlib to create a log-log graph of words and their frequencies\n",
    "%matplotlib inline\n",
    "rank = []\n",
    "count = []\n",
    "for x in aList:\n",
    "    rank.append(x[1])\n",
    "    count.append(x[2])\n",
    "\n",
    "plt.loglog(rank, count) #log-log plot of rank vs count"
   ]
  },
  {
   "cell_type": "markdown",
   "metadata": {},
   "source": [
    "## Conclusion\n",
    "The graph comparing rank to count isn't perfectly straight, however it is very close to linear. The top five words in Gutenberg are 'the', 'and', 'of', 'to', and 'a' with counts of 133603, 95444, 71269, 48060, and 33963 respectively. There percentages are 6.25%, 4.5%, 3.3%, 2.2%, and 1.5%. Zipf's Law states that the frequency of a word is inversely proportional to its rank of frequency. So the second ranked work should have half as many occurances as the first and so on. While the percentages don't quite follow that dispersion, they are close, and the graph is close enough to linear to say that this corpus follows Zipf's Law. "
   ]
  }
 ],
 "metadata": {
  "anaconda-cloud": {},
  "kernelspec": {
   "display_name": "Python [conda root]",
   "language": "python",
   "name": "conda-root-py"
  },
  "language_info": {
   "codemirror_mode": {
    "name": "ipython",
    "version": 3
   },
   "file_extension": ".py",
   "mimetype": "text/x-python",
   "name": "python",
   "nbconvert_exporter": "python",
   "pygments_lexer": "ipython3",
   "version": "3.5.2"
  }
 },
 "nbformat": 4,
 "nbformat_minor": 1
}
