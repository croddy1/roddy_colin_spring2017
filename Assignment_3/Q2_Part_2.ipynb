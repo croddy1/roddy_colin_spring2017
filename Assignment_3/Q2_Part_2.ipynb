{
 "cells": [
  {
   "cell_type": "markdown",
   "metadata": {},
   "source": [
    "# Question 2 Part 1"
   ]
  },
  {
   "cell_type": "code",
   "execution_count": 112,
   "metadata": {
    "collapsed": true
   },
   "outputs": [],
   "source": [
    "import pandas as pd\n",
    "from pandas import DataFrame\n",
    "import sys, os"
   ]
  },
  {
   "cell_type": "code",
   "execution_count": 113,
   "metadata": {
    "collapsed": true
   },
   "outputs": [],
   "source": [
    "#Read in data\n",
    "dataPath = os.getcwd()+'/Data/employee_compensation.csv'\n",
    "df = pd.read_csv(dataPath)"
   ]
  },
  {
   "cell_type": "code",
   "execution_count": 114,
   "metadata": {
    "collapsed": false
   },
   "outputs": [
    {
     "data": {
      "text/html": [
       "<div>\n",
       "<table border=\"1\" class=\"dataframe\">\n",
       "  <thead>\n",
       "    <tr style=\"text-align: right;\">\n",
       "      <th></th>\n",
       "      <th>Salaries</th>\n",
       "      <th>Overtime</th>\n",
       "      <th>Other Salaries</th>\n",
       "      <th>Total Salary</th>\n",
       "      <th>Retirement</th>\n",
       "      <th>Health/Dental</th>\n",
       "      <th>Other Benefits</th>\n",
       "      <th>Total Benefits</th>\n",
       "      <th>Total Compensation</th>\n",
       "    </tr>\n",
       "    <tr>\n",
       "      <th>Employee Identifier</th>\n",
       "      <th></th>\n",
       "      <th></th>\n",
       "      <th></th>\n",
       "      <th></th>\n",
       "      <th></th>\n",
       "      <th></th>\n",
       "      <th></th>\n",
       "      <th></th>\n",
       "      <th></th>\n",
       "    </tr>\n",
       "  </thead>\n",
       "  <tbody>\n",
       "    <tr>\n",
       "      <th>1</th>\n",
       "      <td>40334.303333</td>\n",
       "      <td>0.00</td>\n",
       "      <td>29.673333</td>\n",
       "      <td>40363.976667</td>\n",
       "      <td>8415.146667</td>\n",
       "      <td>8626.160</td>\n",
       "      <td>3172.630</td>\n",
       "      <td>20213.936667</td>\n",
       "      <td>60577.913333</td>\n",
       "    </tr>\n",
       "    <tr>\n",
       "      <th>2</th>\n",
       "      <td>11061.700000</td>\n",
       "      <td>0.00</td>\n",
       "      <td>0.000000</td>\n",
       "      <td>11061.700000</td>\n",
       "      <td>2058.580000</td>\n",
       "      <td>1768.100</td>\n",
       "      <td>853.530</td>\n",
       "      <td>4680.210000</td>\n",
       "      <td>15741.910000</td>\n",
       "    </tr>\n",
       "    <tr>\n",
       "      <th>3</th>\n",
       "      <td>13722.000000</td>\n",
       "      <td>964.83</td>\n",
       "      <td>0.000000</td>\n",
       "      <td>14686.830000</td>\n",
       "      <td>2498.760000</td>\n",
       "      <td>2870.730</td>\n",
       "      <td>1181.230</td>\n",
       "      <td>6550.720000</td>\n",
       "      <td>21237.550000</td>\n",
       "    </tr>\n",
       "    <tr>\n",
       "      <th>4</th>\n",
       "      <td>18574.880000</td>\n",
       "      <td>0.00</td>\n",
       "      <td>210.000000</td>\n",
       "      <td>18784.880000</td>\n",
       "      <td>1463.340000</td>\n",
       "      <td>4829.960</td>\n",
       "      <td>1448.095</td>\n",
       "      <td>7741.395000</td>\n",
       "      <td>26526.275000</td>\n",
       "    </tr>\n",
       "    <tr>\n",
       "      <th>5</th>\n",
       "      <td>19525.227500</td>\n",
       "      <td>0.00</td>\n",
       "      <td>5.177500</td>\n",
       "      <td>19530.405000</td>\n",
       "      <td>0.000000</td>\n",
       "      <td>1341.605</td>\n",
       "      <td>1543.940</td>\n",
       "      <td>2885.545000</td>\n",
       "      <td>22415.950000</td>\n",
       "    </tr>\n",
       "  </tbody>\n",
       "</table>\n",
       "</div>"
      ],
      "text/plain": [
       "                         Salaries  Overtime  Other Salaries  Total Salary  \\\n",
       "Employee Identifier                                                         \n",
       "1                    40334.303333      0.00       29.673333  40363.976667   \n",
       "2                    11061.700000      0.00        0.000000  11061.700000   \n",
       "3                    13722.000000    964.83        0.000000  14686.830000   \n",
       "4                    18574.880000      0.00      210.000000  18784.880000   \n",
       "5                    19525.227500      0.00        5.177500  19530.405000   \n",
       "\n",
       "                      Retirement  Health/Dental  Other Benefits  \\\n",
       "Employee Identifier                                               \n",
       "1                    8415.146667       8626.160        3172.630   \n",
       "2                    2058.580000       1768.100         853.530   \n",
       "3                    2498.760000       2870.730        1181.230   \n",
       "4                    1463.340000       4829.960        1448.095   \n",
       "5                       0.000000       1341.605        1543.940   \n",
       "\n",
       "                     Total Benefits  Total Compensation  \n",
       "Employee Identifier                                      \n",
       "1                      20213.936667        60577.913333  \n",
       "2                       4680.210000        15741.910000  \n",
       "3                       6550.720000        21237.550000  \n",
       "4                       7741.395000        26526.275000  \n",
       "5                       2885.545000        22415.950000  "
      ]
     },
     "execution_count": 114,
     "metadata": {},
     "output_type": "execute_result"
    }
   ],
   "source": [
    "df = df[df['Year Type'] == 'Calendar']\n",
    "cols = ['Job Family'] + list(df.loc[:,'Employee Identifier':'Total Compensation'])\n",
    "sals = df[cols]\n",
    "avg_sals = sals.groupby('Employee Identifier').mean()\n",
    "avg_sals.head()"
   ]
  },
  {
   "cell_type": "code",
   "execution_count": 115,
   "metadata": {
    "collapsed": false
   },
   "outputs": [
    {
     "data": {
      "text/html": [
       "<div>\n",
       "<table border=\"1\" class=\"dataframe\">\n",
       "  <thead>\n",
       "    <tr style=\"text-align: right;\">\n",
       "      <th></th>\n",
       "      <th>Salaries</th>\n",
       "      <th>Overtime</th>\n",
       "      <th>Other Salaries</th>\n",
       "      <th>Total Salary</th>\n",
       "      <th>Retirement</th>\n",
       "      <th>Health/Dental</th>\n",
       "      <th>Other Benefits</th>\n",
       "      <th>Total Benefits</th>\n",
       "      <th>Total Compensation</th>\n",
       "    </tr>\n",
       "    <tr>\n",
       "      <th>Employee Identifier</th>\n",
       "      <th></th>\n",
       "      <th></th>\n",
       "      <th></th>\n",
       "      <th></th>\n",
       "      <th></th>\n",
       "      <th></th>\n",
       "      <th></th>\n",
       "      <th></th>\n",
       "      <th></th>\n",
       "    </tr>\n",
       "  </thead>\n",
       "  <tbody>\n",
       "    <tr>\n",
       "      <th>3</th>\n",
       "      <td>13722.0000</td>\n",
       "      <td>964.8300</td>\n",
       "      <td>0.0000</td>\n",
       "      <td>14686.8300</td>\n",
       "      <td>2498.7600</td>\n",
       "      <td>2870.7300</td>\n",
       "      <td>1181.2300</td>\n",
       "      <td>6550.7200</td>\n",
       "      <td>21237.5500</td>\n",
       "    </tr>\n",
       "    <tr>\n",
       "      <th>6</th>\n",
       "      <td>133842.7700</td>\n",
       "      <td>33892.2000</td>\n",
       "      <td>19926.6450</td>\n",
       "      <td>187661.6150</td>\n",
       "      <td>29394.5325</td>\n",
       "      <td>15933.0600</td>\n",
       "      <td>3103.6650</td>\n",
       "      <td>48431.2575</td>\n",
       "      <td>236092.8725</td>\n",
       "    </tr>\n",
       "    <tr>\n",
       "      <th>8</th>\n",
       "      <td>52510.0800</td>\n",
       "      <td>4106.9325</td>\n",
       "      <td>1248.6300</td>\n",
       "      <td>57865.6425</td>\n",
       "      <td>13885.2775</td>\n",
       "      <td>10584.3025</td>\n",
       "      <td>4354.0175</td>\n",
       "      <td>28823.5975</td>\n",
       "      <td>86689.2400</td>\n",
       "    </tr>\n",
       "    <tr>\n",
       "      <th>18</th>\n",
       "      <td>70408.0950</td>\n",
       "      <td>27338.1125</td>\n",
       "      <td>2081.7575</td>\n",
       "      <td>99827.9650</td>\n",
       "      <td>19194.0400</td>\n",
       "      <td>14304.2000</td>\n",
       "      <td>7545.3750</td>\n",
       "      <td>41043.6150</td>\n",
       "      <td>140871.5800</td>\n",
       "    </tr>\n",
       "    <tr>\n",
       "      <th>20</th>\n",
       "      <td>56586.1325</td>\n",
       "      <td>5763.4150</td>\n",
       "      <td>882.4150</td>\n",
       "      <td>63231.9625</td>\n",
       "      <td>13241.0575</td>\n",
       "      <td>12437.5775</td>\n",
       "      <td>4823.9875</td>\n",
       "      <td>30502.6225</td>\n",
       "      <td>93734.5850</td>\n",
       "    </tr>\n",
       "  </tbody>\n",
       "</table>\n",
       "</div>"
      ],
      "text/plain": [
       "                        Salaries    Overtime  Other Salaries  Total Salary  \\\n",
       "Employee Identifier                                                          \n",
       "3                     13722.0000    964.8300          0.0000    14686.8300   \n",
       "6                    133842.7700  33892.2000      19926.6450   187661.6150   \n",
       "8                     52510.0800   4106.9325       1248.6300    57865.6425   \n",
       "18                    70408.0950  27338.1125       2081.7575    99827.9650   \n",
       "20                    56586.1325   5763.4150        882.4150    63231.9625   \n",
       "\n",
       "                     Retirement  Health/Dental  Other Benefits  \\\n",
       "Employee Identifier                                              \n",
       "3                     2498.7600      2870.7300       1181.2300   \n",
       "6                    29394.5325     15933.0600       3103.6650   \n",
       "8                    13885.2775     10584.3025       4354.0175   \n",
       "18                   19194.0400     14304.2000       7545.3750   \n",
       "20                   13241.0575     12437.5775       4823.9875   \n",
       "\n",
       "                     Total Benefits  Total Compensation  \n",
       "Employee Identifier                                      \n",
       "3                         6550.7200          21237.5500  \n",
       "6                        48431.2575         236092.8725  \n",
       "8                        28823.5975          86689.2400  \n",
       "18                       41043.6150         140871.5800  \n",
       "20                       30502.6225          93734.5850  "
      ]
     },
     "execution_count": 115,
     "metadata": {},
     "output_type": "execute_result"
    }
   ],
   "source": [
    "#People whos overtime is greater than 5% of their salary\n",
    "greater = avg_sals[avg_sals['Overtime'] > (avg_sals['Salaries']*0.05)]\n",
    "greater.head()"
   ]
  },
  {
   "cell_type": "code",
   "execution_count": 116,
   "metadata": {
    "collapsed": false
   },
   "outputs": [
    {
     "data": {
      "text/html": [
       "<div>\n",
       "<table border=\"1\" class=\"dataframe\">\n",
       "  <thead>\n",
       "    <tr style=\"text-align: right;\">\n",
       "      <th></th>\n",
       "      <th>Employee Identifier</th>\n",
       "      <th>Job Family</th>\n",
       "    </tr>\n",
       "  </thead>\n",
       "  <tbody>\n",
       "    <tr>\n",
       "      <th>0</th>\n",
       "      <td>52206</td>\n",
       "      <td>Journeyman Trade</td>\n",
       "    </tr>\n",
       "    <tr>\n",
       "      <th>2</th>\n",
       "      <td>33958</td>\n",
       "      <td>Management</td>\n",
       "    </tr>\n",
       "    <tr>\n",
       "      <th>3</th>\n",
       "      <td>33073</td>\n",
       "      <td>Legal &amp; Court</td>\n",
       "    </tr>\n",
       "    <tr>\n",
       "      <th>5</th>\n",
       "      <td>23930</td>\n",
       "      <td>Clerical, Secretarial &amp; Steno</td>\n",
       "    </tr>\n",
       "    <tr>\n",
       "      <th>7</th>\n",
       "      <td>38054</td>\n",
       "      <td>Public Service Aide</td>\n",
       "    </tr>\n",
       "  </tbody>\n",
       "</table>\n",
       "</div>"
      ],
      "text/plain": [
       "   Employee Identifier                     Job Family\n",
       "0                52206               Journeyman Trade\n",
       "2                33958                     Management\n",
       "3                33073                  Legal & Court\n",
       "5                23930  Clerical, Secretarial & Steno\n",
       "7                38054            Public Service Aide"
      ]
     },
     "execution_count": 116,
     "metadata": {},
     "output_type": "execute_result"
    }
   ],
   "source": [
    "zoo = ['Employee Identifier'] + ['Job Family']\n",
    "job = df[zoo]\n",
    "job.head()"
   ]
  },
  {
   "cell_type": "code",
   "execution_count": 117,
   "metadata": {
    "collapsed": false
   },
   "outputs": [],
   "source": [
    "jobs = job.drop_duplicates('Employee Identifier').set_index('Employee Identifier')"
   ]
  },
  {
   "cell_type": "code",
   "execution_count": 118,
   "metadata": {
    "collapsed": false
   },
   "outputs": [
    {
     "data": {
      "text/html": [
       "<div>\n",
       "<table border=\"1\" class=\"dataframe\">\n",
       "  <thead>\n",
       "    <tr style=\"text-align: right;\">\n",
       "      <th></th>\n",
       "      <th>Total Benefits</th>\n",
       "      <th>Total Compensation</th>\n",
       "      <th>Percentage Ben/Comp</th>\n",
       "    </tr>\n",
       "    <tr>\n",
       "      <th>Job Family</th>\n",
       "      <th></th>\n",
       "      <th></th>\n",
       "      <th></th>\n",
       "    </tr>\n",
       "  </thead>\n",
       "  <tbody>\n",
       "    <tr>\n",
       "      <th>Administrative-DPW/PUC</th>\n",
       "      <td>37692.466000</td>\n",
       "      <td>145259.268000</td>\n",
       "      <td>25.948407</td>\n",
       "    </tr>\n",
       "    <tr>\n",
       "      <th>Administrative-Labor &amp; Trades</th>\n",
       "      <td>39364.382183</td>\n",
       "      <td>172979.362595</td>\n",
       "      <td>22.526500</td>\n",
       "    </tr>\n",
       "    <tr>\n",
       "      <th>Agriculture &amp; Horticulture</th>\n",
       "      <td>28419.285835</td>\n",
       "      <td>96108.633016</td>\n",
       "      <td>29.594277</td>\n",
       "    </tr>\n",
       "    <tr>\n",
       "      <th>Airport Operation</th>\n",
       "      <td>33012.042389</td>\n",
       "      <td>119663.435896</td>\n",
       "      <td>27.737130</td>\n",
       "    </tr>\n",
       "    <tr>\n",
       "      <th>Budget, Admn &amp; Stats Analysis</th>\n",
       "      <td>20103.658042</td>\n",
       "      <td>68828.604215</td>\n",
       "      <td>29.772765</td>\n",
       "    </tr>\n",
       "  </tbody>\n",
       "</table>\n",
       "</div>"
      ],
      "text/plain": [
       "                               Total Benefits  Total Compensation  \\\n",
       "Job Family                                                          \n",
       "Administrative-DPW/PUC           37692.466000       145259.268000   \n",
       "Administrative-Labor & Trades    39364.382183       172979.362595   \n",
       "Agriculture & Horticulture       28419.285835        96108.633016   \n",
       "Airport Operation                33012.042389       119663.435896   \n",
       "Budget, Admn & Stats Analysis    20103.658042        68828.604215   \n",
       "\n",
       "                               Percentage Ben/Comp  \n",
       "Job Family                                          \n",
       "Administrative-DPW/PUC                   25.948407  \n",
       "Administrative-Labor & Trades            22.526500  \n",
       "Agriculture & Horticulture               29.594277  \n",
       "Airport Operation                        27.737130  \n",
       "Budget, Admn & Stats Analysis            29.772765  "
      ]
     },
     "execution_count": 118,
     "metadata": {},
     "output_type": "execute_result"
    }
   ],
   "source": [
    "fin_sal = pd.merge(greater, jobs, left_index=True, right_index=True)\n",
    "fin_sal['Percentage Ben/Comp'] = (fin_sal['Total Benefits']/fin_sal['Total Compensation'])*100\n",
    "coo = list(fin_sal.loc[:,'Total Benefits':'Percentage Ben/Comp'])\n",
    "final = fin_sal[coo]\n",
    "holder = final.groupby('Job Family').mean()\n",
    "holder.head()"
   ]
  },
  {
   "cell_type": "code",
   "execution_count": 119,
   "metadata": {
    "collapsed": false
   },
   "outputs": [],
   "source": [
    "#write to csv file\n",
    "holder.to_csv('Q2_Part_2.csv',index=False,header=True)"
   ]
  },
  {
   "cell_type": "code",
   "execution_count": null,
   "metadata": {
    "collapsed": true
   },
   "outputs": [],
   "source": []
  }
 ],
 "metadata": {
  "anaconda-cloud": {},
  "kernelspec": {
   "display_name": "Python [conda root]",
   "language": "python",
   "name": "conda-root-py"
  },
  "language_info": {
   "codemirror_mode": {
    "name": "ipython",
    "version": 3
   },
   "file_extension": ".py",
   "mimetype": "text/x-python",
   "name": "python",
   "nbconvert_exporter": "python",
   "pygments_lexer": "ipython3",
   "version": "3.5.2"
  }
 },
 "nbformat": 4,
 "nbformat_minor": 1
}
