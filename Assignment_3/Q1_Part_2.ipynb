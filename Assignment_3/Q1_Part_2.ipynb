{
 "cells": [
  {
   "cell_type": "markdown",
   "metadata": {},
   "source": [
    "# Question 1 Part 2\n",
    "- For each borough, find out distribution of each collision scale. (One car involved? Two? Three? or more?) (From 2015 to present)"
   ]
  },
  {
   "cell_type": "code",
   "execution_count": 1,
   "metadata": {
    "collapsed": true
   },
   "outputs": [],
   "source": [
    "import pandas as pd\n",
    "from pandas import DataFrame\n",
    "import sys, os, datetime"
   ]
  },
  {
   "cell_type": "code",
   "execution_count": 2,
   "metadata": {
    "collapsed": true
   },
   "outputs": [],
   "source": [
    "#Read in data\n",
    "dataPath = os.getcwd()+'/Data/vehicle_collisions.csv'\n",
    "df = pd.read_csv(dataPath)"
   ]
  },
  {
   "cell_type": "code",
   "execution_count": 57,
   "metadata": {
    "collapsed": false
   },
   "outputs": [],
   "source": [
    "#Fill NaN data in 'BOROUGH' and create list of boroughs\n",
    "df['BOROUGH'].fillna('UNRECORDED',inplace=True)\n",
    "bos = df['BOROUGH'].unique()"
   ]
  },
  {
   "cell_type": "code",
   "execution_count": 63,
   "metadata": {
    "collapsed": false
   },
   "outputs": [
    {
     "data": {
      "text/html": [
       "<div>\n",
       "<table border=\"1\" class=\"dataframe\">\n",
       "  <thead>\n",
       "    <tr style=\"text-align: right;\">\n",
       "      <th></th>\n",
       "      <th>BOROUGH</th>\n",
       "      <th>ONE_VEHICLE_INVOLVED</th>\n",
       "      <th>TWO_VEHICLES_INVOLVED</th>\n",
       "      <th>THREE_VEHICLES_INVOLVED</th>\n",
       "      <th>MORE_VEHICLES_INVOLVED</th>\n",
       "    </tr>\n",
       "  </thead>\n",
       "  <tbody>\n",
       "    <tr>\n",
       "      <th>0</th>\n",
       "      <td>BRONX</td>\n",
       "      <td>8627</td>\n",
       "      <td>34385</td>\n",
       "      <td>1962</td>\n",
       "      <td>625</td>\n",
       "    </tr>\n",
       "    <tr>\n",
       "      <th>1</th>\n",
       "      <td>BROOKLYN</td>\n",
       "      <td>17375</td>\n",
       "      <td>80207</td>\n",
       "      <td>4980</td>\n",
       "      <td>1612</td>\n",
       "    </tr>\n",
       "    <tr>\n",
       "      <th>2</th>\n",
       "      <td>MANHATTAN</td>\n",
       "      <td>13318</td>\n",
       "      <td>66958</td>\n",
       "      <td>2024</td>\n",
       "      <td>501</td>\n",
       "    </tr>\n",
       "    <tr>\n",
       "      <th>3</th>\n",
       "      <td>QUEENS</td>\n",
       "      <td>12962</td>\n",
       "      <td>70260</td>\n",
       "      <td>4498</td>\n",
       "      <td>1420</td>\n",
       "    </tr>\n",
       "    <tr>\n",
       "      <th>4</th>\n",
       "      <td>STATEN ISLAND</td>\n",
       "      <td>2343</td>\n",
       "      <td>10676</td>\n",
       "      <td>759</td>\n",
       "      <td>165</td>\n",
       "    </tr>\n",
       "  </tbody>\n",
       "</table>\n",
       "</div>"
      ],
      "text/plain": [
       "         BOROUGH  ONE_VEHICLE_INVOLVED  TWO_VEHICLES_INVOLVED  \\\n",
       "0          BRONX                  8627                  34385   \n",
       "1       BROOKLYN                 17375                  80207   \n",
       "2      MANHATTAN                 13318                  66958   \n",
       "3         QUEENS                 12962                  70260   \n",
       "4  STATEN ISLAND                  2343                  10676   \n",
       "\n",
       "   THREE_VEHICLES_INVOLVED  MORE_VEHICLES_INVOLVED  \n",
       "0                     1962                     625  \n",
       "1                     4980                    1612  \n",
       "2                     2024                     501  \n",
       "3                     4498                    1420  \n",
       "4                      759                     165  "
      ]
     },
     "execution_count": 63,
     "metadata": {},
     "output_type": "execute_result"
    }
   ],
   "source": [
    "#Create dataFrame of vehicle count in collisions for each borough\n",
    "holder = []\n",
    "for each in bos:\n",
    "    boro = df[df['BOROUGH'] == each] #pull borough specific data\n",
    "    veh = boro.loc[:,'VEHICLE 1 TYPE':'VEHICLE 5 TYPE'] #pull only vehicle-type data\n",
    "    veh['NUM'] = veh.count(axis=1) #count number of non-empty cells in each row, gives num vehicles in collision\n",
    "    vals = veh['NUM'].value_counts() #get count for each unique NUM\n",
    "    #append information to holder list\n",
    "    holder.append((each, vals[1], vals[2], vals[3], (vals[4]+vals[5])))\n",
    "\n",
    "#create dataFrame from holder list\n",
    "collisions = DataFrame(holder, columns=('BOROUGH', \n",
    "                                            'ONE_VEHICLE_INVOLVED', \n",
    "                                            'TWO_VEHICLES_INVOLVED', \n",
    "                                            'THREE_VEHICLES_INVOLVED',\n",
    "                                            'MORE_VEHICLES_INVOLVED')).sort_values(by='BOROUGH').reset_index(drop=True)\n",
    "collisions.head()"
   ]
  },
  {
   "cell_type": "code",
   "execution_count": 64,
   "metadata": {
    "collapsed": true
   },
   "outputs": [],
   "source": [
    "#write to csv file\n",
    "collisions.to_csv('Q1_Part_2.csv',index=False,header=True)"
   ]
  },
  {
   "cell_type": "code",
   "execution_count": 58,
   "metadata": {
    "collapsed": false
   },
   "outputs": [
    {
     "data": {
      "text/html": [
       "<div>\n",
       "<table border=\"1\" class=\"dataframe\">\n",
       "  <thead>\n",
       "    <tr style=\"text-align: right;\">\n",
       "      <th></th>\n",
       "      <th>BOROUGH</th>\n",
       "      <th>VEHICLE 1 TYPE</th>\n",
       "      <th>VEHICLE 2 TYPE</th>\n",
       "      <th>VEHICLE 3 TYPE</th>\n",
       "      <th>VEHICLE 4 TYPE</th>\n",
       "      <th>VEHICLE 5 TYPE</th>\n",
       "    </tr>\n",
       "  </thead>\n",
       "  <tbody>\n",
       "    <tr>\n",
       "      <th>0</th>\n",
       "      <td>QUEENS</td>\n",
       "      <td>SPORT UTILITY/STATION WAGON</td>\n",
       "      <td>NaN</td>\n",
       "      <td>NaN</td>\n",
       "      <td>NaN</td>\n",
       "      <td>NaN</td>\n",
       "    </tr>\n",
       "    <tr>\n",
       "      <th>1</th>\n",
       "      <td>UNRECORDED</td>\n",
       "      <td>PASSENGER VEHICLE</td>\n",
       "      <td>NaN</td>\n",
       "      <td>NaN</td>\n",
       "      <td>NaN</td>\n",
       "      <td>NaN</td>\n",
       "    </tr>\n",
       "    <tr>\n",
       "      <th>2</th>\n",
       "      <td>BROOKLYN</td>\n",
       "      <td>PASSENGER VEHICLE</td>\n",
       "      <td>UNKNOWN</td>\n",
       "      <td>NaN</td>\n",
       "      <td>NaN</td>\n",
       "      <td>NaN</td>\n",
       "    </tr>\n",
       "    <tr>\n",
       "      <th>3</th>\n",
       "      <td>BROOKLYN</td>\n",
       "      <td>BUS</td>\n",
       "      <td>PASSENGER VEHICLE</td>\n",
       "      <td>NaN</td>\n",
       "      <td>NaN</td>\n",
       "      <td>NaN</td>\n",
       "    </tr>\n",
       "    <tr>\n",
       "      <th>4</th>\n",
       "      <td>UNRECORDED</td>\n",
       "      <td>UNKNOWN</td>\n",
       "      <td>PASSENGER VEHICLE</td>\n",
       "      <td>NaN</td>\n",
       "      <td>NaN</td>\n",
       "      <td>NaN</td>\n",
       "    </tr>\n",
       "  </tbody>\n",
       "</table>\n",
       "</div>"
      ],
      "text/plain": [
       "      BOROUGH               VEHICLE 1 TYPE     VEHICLE 2 TYPE VEHICLE 3 TYPE  \\\n",
       "0      QUEENS  SPORT UTILITY/STATION WAGON                NaN            NaN   \n",
       "1  UNRECORDED            PASSENGER VEHICLE                NaN            NaN   \n",
       "2    BROOKLYN            PASSENGER VEHICLE            UNKNOWN            NaN   \n",
       "3    BROOKLYN                          BUS  PASSENGER VEHICLE            NaN   \n",
       "4  UNRECORDED                      UNKNOWN  PASSENGER VEHICLE            NaN   \n",
       "\n",
       "  VEHICLE 4 TYPE VEHICLE 5 TYPE  \n",
       "0            NaN            NaN  \n",
       "1            NaN            NaN  \n",
       "2            NaN            NaN  \n",
       "3            NaN            NaN  \n",
       "4            NaN            NaN  "
      ]
     },
     "execution_count": 58,
     "metadata": {},
     "output_type": "execute_result"
    }
   ],
   "source": [
    "cols = ['BOROUGH'] + list(df.loc[:,'VEHICLE 1 TYPE':'VEHICLE 5 TYPE'])\n",
    "vehicles = df[cols]\n",
    "vehicles.head()\n",
    "#vehicles.count(axis=1)\n",
    "#vehicles.head()\n",
    "#df.loc[:,'VEHICLE 1 TYPE':'VEHICLE 5 TYPE'].sum(axis=1)"
   ]
  },
  {
   "cell_type": "code",
   "execution_count": null,
   "metadata": {
    "collapsed": true
   },
   "outputs": [],
   "source": []
  }
 ],
 "metadata": {
  "anaconda-cloud": {},
  "kernelspec": {
   "display_name": "Python [conda root]",
   "language": "python",
   "name": "conda-root-py"
  },
  "language_info": {
   "codemirror_mode": {
    "name": "ipython",
    "version": 3
   },
   "file_extension": ".py",
   "mimetype": "text/x-python",
   "name": "python",
   "nbconvert_exporter": "python",
   "pygments_lexer": "ipython3",
   "version": "3.5.2"
  }
 },
 "nbformat": 4,
 "nbformat_minor": 1
}
